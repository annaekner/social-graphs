{
 "cells": [
  {
   "cell_type": "markdown",
   "metadata": {},
   "source": [
    "## **Assignment 2**  \n",
    "**02805 Social Graphs & Interactions**  \n",
    "\n",
    "**Group 13** \n",
    "- Anna Bøgevang Ekner (s193396)\n",
    "- Morten Møller Christensen (s204258)\n"
   ]
  },
  {
   "cell_type": "markdown",
   "metadata": {},
   "source": [
    "**Feedback from Assignment 1**\n",
    "- Don't scale the axes of the distributions (especially not x-axis), because we distort the distributions and will arrive to wrong conclusions. He said our in- and out-degree distributions look kinda weird and not how they would expect. \n",
    "- Instead of using plt.hist, bin the data as described in the Week 2 notebook and then plot with plt.bar. Make sure that when we do comparisons of distributions, the data should be binned in the same way. "
   ]
  },
  {
   "cell_type": "code",
   "execution_count": 1,
   "metadata": {},
   "outputs": [],
   "source": [
    "import warnings\n",
    "warnings.filterwarnings('ignore')\n",
    "import random\n",
    "import os\n",
    "import re\n",
    "import json\n",
    "import scipy\n",
    "import urllib.request\n",
    "import urllib.parse\n",
    "import numpy as np\n",
    "import networkx as nx\n",
    "import seaborn as sns\n",
    "import matplotlib\n",
    "import matplotlib.pyplot as plt\n",
    "from tqdm import tqdm\n",
    "from itertools import count\n",
    "\n",
    "sns.set_style('darkgrid')\n",
    "sns.set(font_scale=1.)"
   ]
  },
  {
   "cell_type": "markdown",
   "metadata": {},
   "source": [
    "# **Part 1: Genres and communities and plotting**"
   ]
  },
  {
   "cell_type": "markdown",
   "metadata": {},
   "source": [
    "### **Loading and pre-processing the undirected graph**"
   ]
  },
  {
   "cell_type": "code",
   "execution_count": 2,
   "metadata": {},
   "outputs": [],
   "source": [
    "def load_data():\n",
    "    \"\"\"\n",
    "    Load the artist genre data and the undirected country musician graph\n",
    "\n",
    "    Returns\n",
    "        artist_genres_dict: dictionary of artist genres (dict)\n",
    "        country_performer_undir_graph: undirected graph of country musicians (nx.Graph)\n",
    "    \"\"\"\n",
    "    # Load the artist genre data\n",
    "    artist_genres = open('artists_genres_dictionary.txt', 'r')\n",
    "    raw_data = artist_genres.read() \n",
    "\n",
    "    # Convert into dictionary\n",
    "    artist_genres_dict = eval(raw_data)\n",
    "\n",
    "    # Load the undirected graph from the json file\n",
    "    with open('undirected_graph.txt', 'r', encoding='utf-8') as f:\n",
    "        undirected_graph_json = json.load(f)\n",
    "\n",
    "    undirected_graph_data = json.loads(undirected_graph_json)\n",
    "    country_performer_undir_graph = nx.node_link_graph(undirected_graph_data)\n",
    "\n",
    "    return artist_genres_dict, country_performer_undir_graph\n",
    "\n",
    "artist_genres_dict, country_performer_undir_graph = load_data()"
   ]
  },
  {
   "cell_type": "code",
   "execution_count": 16,
   "metadata": {},
   "outputs": [
    {
     "name": "stdout",
     "output_type": "stream",
     "text": [
      "{'a cappella': 1, 'acid rock': 1, 'acoustic': 4, 'acoustic music': 2, 'acoustic pop': 1, 'adult contemporary': 8, 'adult contemporary music': 1, 'afrobeats': 1, 'album oriented rock': 1, 'alt country': 1, 'alt-country': 8, 'alternative': 5, 'alternative country': 73, 'alternative metal': 1, 'alternative rock': 20, 'american folk music': 1, 'americana': 157, 'americana country': 1, 'americana music': 1, 'ameripolitan': 8, 'and': 3, 'and southern gospel': 1, 'aor': 1, 'appalachian': 1, 'appalachian folk': 1, 'appalachian rock n roll': 1, 'arena rock': 2, 'art rock': 1, 'australian country': 1, 'australiana': 1, 'bakersfield sound': 11, 'big band': 1, 'blue comedy': 1, 'blue-eyed soul': 6, 'bluegrass': 129, 'bluegrass gospel': 1, 'bluegrass music': 6, 'blues': 79, 'blues music': 1, 'blues rock': 24, 'blues-rock': 1, 'boogie': 1, 'boogie-woogie': 3, 'bro-country': 2, 'bubblegum': 2, 'bush ballad': 1, 'cabaret': 1, 'cajun': 6, 'cajun music': 1, 'calypso': 1, 'canadiana': 2, 'ccm': 10, 'celtic': 6, 'celtic rock': 2, 'chamber pop': 1, 'character comedy': 1, 'christian': 11, 'christian contemporary': 1, 'christian country': 4, 'christian country music': 1, 'christian music': 4, 'christian pop': 1, 'christian rock': 1, 'christmas': 2, 'citation needed': 2, 'classical': 5, 'classical crossover': 1, 'comedy': 7, 'comedy rock': 1, 'contemporary': 1, 'contemporary christian': 4, 'contemporary christian music': 3, 'contemporary folk': 3, 'contemporary worship music': 1, 'corrido': 2, 'country': 1499, 'country and irish': 2, 'country and western': 2, 'country and western music': 1, 'country blues': 3, 'country comedy': 1, 'country disco': 1, 'country folk': 15, 'country gospel': 1, 'country music': 36, 'country pop': 109, 'country rap': 12, 'country rock': 171, 'country soul': 2, 'country-folk': 1, 'country-pop': 1, 'country-soul': 2, 'countrypolitan': 8, 'cowboy music': 1, 'cowpunk': 5, 'crossover': 1, 'cumbia': 2, 'dance': 3, 'dance-pop': 4, 'delta blues': 1, 'doo wop': 1, 'dream pop': 1, 'dutch pop': 1, 'easy listening': 7, 'edm': 5, 'electric blues': 1, 'electro': 1, 'electro house': 1, 'electronic': 2, 'electronicore': 1, 'electropop': 2, 'emo pop': 1, 'experimental': 1, 'experimental rock': 2, 'film music': 1, 'film score': 1, 'folk': 178, 'folk and country': 1, 'folk blues': 2, 'folk music': 4, 'folk punk': 1, 'folk rock': 60, 'folk-pop': 4, 'folk-rock': 2, 'folk\\\\xa0rock': 1, 'folktronica': 1, 'freak folk': 1, 'future bass': 1, 'garage rock': 3, 'garage rock revival': 1, 'glam metal': 4, 'gospel': 96, 'gospel music': 1, 'gothic country': 2, 'grunge': 3, 'gulf and western': 1, 'gypsy': 1, 'gypsy jazz': 1, 'hard rock': 19, 'hardcore punk': 1, 'hawaiian': 1, 'heartland rock': 9, 'heavy metal': 7, 'hick-hop': 1, 'hillbilly': 1, 'hip hop': 11, 'hiphop': 1, 'holiday': 1, 'honky tonk': 12, 'honky-tonk': 23, 'improvisational comedy': 1, 'indie': 3, 'indie folk': 10, 'indie pop': 2, 'indie rock': 12, 'instrumental rock': 1, 'insult comedy': 1, 'irish': 1, 'irish traditional music': 1, 'jam band': 8, 'jamgrass': 1, 'jangle pop': 1, 'jazz': 34, 'jazz music': 1, 'jazz rock': 3, 'latin': 1, 'latin music': 3, 'latin pop': 1, 'latin rock': 1, 'lo-fi': 1, 'louisiana creole music': 1, 'lounge': 1, 'mariachi': 2, 'metalcore': 1, 'mexican pop': 1, 'moombahton': 1, 'mpb': 1, 'musical comedy': 1, 'musical theatre': 2, 'nashville sound': 14, 'neo-psychedelia': 1, 'neo-traditionalist country': 1, 'neotraditional': 2, 'neotraditional country': 27, 'neotraditionalist country': 2, 'neotraditonal country': 1, 'new mexico music': 4, 'new wave': 1, 'novelty': 2, 'nu metal': 2, 'observational': 1, 'observational comedy': 2, 'old time': 1, 'old-time': 14, 'old-time music': 9, 'oldies': 1, 'opera': 1, 'outlaw country': 40, 'parody': 2, 'patriotic': 1, 'physical comedy': 1, 'political satire': 1, 'pop': 157, 'pop punk': 2, 'pop rap': 2, 'pop rock': 35, 'post-grunge': 3, 'post-hardcore': 1, 'power pop': 3, 'prog music': 1, 'progressive': 1, 'progressive bluegrass': 17, 'progressive country': 31, 'progressive folk': 1, 'progressive house': 1, 'protest music': 1, 'proto-punk': 1, 'psychedelia': 4, 'psychedelic rock': 4, 'psychobilly': 5, 'punk': 2, 'punk rock': 2, 'ranchera': 2, 'rap rock': 2, 'red dirt': 15, 'reggae': 2, 'regional mexican': 1, 'rhythm and blues': 5, 'rock': 116, 'rock and roll': 50, 'rock music': 5, 'rock n roll': 1, 'rockabilly': 80, 'roots': 3, 'roots music': 2, 'roots rock': 29, 'satire': 2, 'schlager': 1, 'sertanejo': 1, 'singer-songwriter': 5, 'sitcom': 1, 'ska': 1, 'ska punk': 1, 'sketch comedy': 1, 'soft rock': 34, 'soul': 23, 'soul pop': 1, 'southern gospel': 8, 'southern hip hop': 3, 'southern metal': 1, 'southern rock': 51, 'southern soul': 4, 'string band': 1, 'surf': 2, 'surf rock': 1, 'swamp pop': 1, 'swamp rock': 3, 'swing': 5, 'talking blues': 1, 'teen pop': 1, 'tejano': 3, 'tex-mex': 6, 'texas country': 20, 'texas country music': 2, 'traditional': 1, 'traditional country': 3, 'traditional pop': 15, 'trap': 4, 'tropical rock': 2, 'truck-driving country': 5, 'tulsa sound': 1, 'twang': 1, 'vocal jazz': 3, 'vocal pop': 1, 'western': 20, 'western films': 1, 'western music': 1, 'western swing': 27, 'word play': 2, 'world': 2, 'world music': 1, 'worship': 1, 'zydeco': 1}\n"
     ]
    }
   ],
   "source": [
    "# Check the counts of each genre (value) in the artist_genres_dict\n",
    "genres = list(artist_genres_dict.values())\n",
    "genres_flat = [x for xs in genres for x in xs]\n",
    "values, counts = np.unique(genres_flat, return_counts=True)\n",
    "not_one = (counts != 1).sum()\n",
    "# print(not_one)\n",
    "# print(values)\n",
    "\n",
    "# Dictionary of genre and their counts\n",
    "genre_counts = dict(zip(values, counts))\n",
    "print(genre_counts)"
   ]
  },
  {
   "cell_type": "code",
   "execution_count": 35,
   "metadata": {},
   "outputs": [
    {
     "name": "stdout",
     "output_type": "stream",
     "text": [
      "Artist genre dictionary\n",
      "\tNumber of artists: 1833\n",
      "\n",
      "Artist graph (undirected)\n",
      "\tNumber of nodes: 1833\n",
      "\tNumber of edges: 13943\n"
     ]
    }
   ],
   "source": [
    "def preprocess_graph(artist_genres_dict, country_performer_undir_graph):\n",
    "    \"\"\" \n",
    "    Preprocess the graph by keeping only the nodes that have genre information, \n",
    "    and also remove the article_length attribute from all nodes.\n",
    "\n",
    "    Args\n",
    "        artist_genres_dict: dictionary of artist genres (dict)\n",
    "        country_performer_undir_graph: undirected graph of country musicians (nx.Graph)\n",
    "\n",
    "    Returns\n",
    "        artist_undirected_graph: preprocessed undirected graph of country musicians (nx.Graph)\n",
    "    \"\"\"\n",
    "    # Keep only the nodes that have genre information\n",
    "    artist_undirected_graph = country_performer_undir_graph.copy()\n",
    "\n",
    "    for node in list(country_performer_undir_graph.nodes()):\n",
    "\n",
    "        # Remove the article_length attribute\n",
    "        if 'article_length' in artist_undirected_graph.nodes[node]:\n",
    "            del artist_undirected_graph.nodes[node]['article_length']\n",
    "\n",
    "        if node.replace('_', ' ') not in artist_genres_dict:\n",
    "            artist_undirected_graph.remove_node(node)\n",
    "\n",
    "    return artist_undirected_graph\n",
    "\n",
    "artist_undirected_graph_preprocessed = preprocess_graph(artist_genres_dict, country_performer_undir_graph)\n",
    "\n",
    "print(f'Artist genre dictionary')\n",
    "print(f'\\tNumber of artists: {len(artist_genres_dict)}\\n')\n",
    "\n",
    "print(f'Artist graph (undirected)')\n",
    "print(f'\\tNumber of nodes: {artist_undirected_graph_preprocessed.number_of_nodes()}')\n",
    "print(f'\\tNumber of edges: {artist_undirected_graph_preprocessed.number_of_edges()}')"
   ]
  },
  {
   "cell_type": "markdown",
   "metadata": {},
   "source": [
    "### **Exercise 1.1: Genres and modularity**"
   ]
  },
  {
   "cell_type": "markdown",
   "metadata": {},
   "source": [
    "Write about genres and modularity. \n",
    "\n",
    "See Network Science, Section 9.4, and reference it with: [[Network Science, Section 9.4]](https://networksciencebook.com/chapter/9#modularity) \n",
    "\n",
    "Mention Equation (9.12): \n",
    "\n",
    "\\begin{equation}\n",
    "M = \\sum\\limits^{n_c}_{c=1} \\left[ \\dfrac{L_c}{L} - \\left(\\dfrac{k_c}{2L}\\right)^2 \\right], \\quad (\\text{Equation } 9.12)\n",
    "\\end{equation}\n",
    "\n",
    "where $L$ is the number of links in the network, $n_c$ is the number of communities in the partition, while $L_c$ and $k_c$ are the number of links and total degree of the nodes, respectively, for the community $c$. "
   ]
  },
  {
   "cell_type": "markdown",
   "metadata": {},
   "source": [
    "### **Exercise 1.2: Detecting communities and the value of modularity in comparison to the genres**"
   ]
  },
  {
   "cell_type": "markdown",
   "metadata": {},
   "source": [
    "Detect the communities, discuss the value of modularity in comparison to the genres. "
   ]
  },
  {
   "cell_type": "code",
   "execution_count": 91,
   "metadata": {},
   "outputs": [],
   "source": [
    "def add_genre_attribute(artist_genres_dict, artist_undirected_graph, selection_method = 'first'):\n",
    "    \"\"\"\n",
    "    Add the genre attribute to the nodes in the graph, either by selecting the \n",
    "    first genre in the list or by selecting the first genre that is not 'country'.\n",
    "\n",
    "    Args\n",
    "        artist_genres_dict: dictionary of artist genres (dict)\n",
    "        artist_undirected_graph: undirected graph of country musicians (nx.Graph)\n",
    "        selection_method: method to select the genre, either 'first' or 'not_country' (str)\n",
    "\n",
    "    Returns\n",
    "        artist_undirected_graph: undirected graph of country musicians with genre attribute (nx.Graph)\n",
    "    \"\"\"\n",
    "\n",
    "    for node in list(artist_undirected_graph.nodes()):\n",
    "\n",
    "        # Get the genres of the artist\n",
    "        genres = artist_genres_dict[node.replace('_', ' ')]\n",
    "\n",
    "        # Select the genre based on the selection method\n",
    "        if selection_method == 'first':\n",
    "            genre = genres[0]\n",
    "\n",
    "        elif selection_method == 'not_country':\n",
    "\n",
    "            # If the artist has only one genre, select it\n",
    "            if len(genres) == 1:\n",
    "                genre = genres[0]\n",
    "\n",
    "            # If the artist has multiple genres, select the first genre that is not 'country'\n",
    "            else:\n",
    "                genre = [g for g in genres if g != 'country'][0]\n",
    "        \n",
    "        # Add the genre attribute to the node\n",
    "        artist_undirected_graph.nodes[node]['genre'] = genre\n",
    "\n",
    "    return artist_undirected_graph\n",
    "\n",
    "def find_communities(artist_undirected_graph):\n",
    "    \"\"\"\n",
    "    Find the communities in the graph, i.e. groups of nodes that share the same genre.\n",
    "    Each node is characterized by the first genre in its list of genres.\n",
    "\n",
    "    Args\n",
    "        artist_undirected_graph: undirected graph of country musicians (nx.Graph)\n",
    "\n",
    "    Returns\n",
    "        communities: dictionary of communities, where keys are genres and values are \n",
    "                     nodes characterized by that genre (dict)\n",
    "    \"\"\"\n",
    "\n",
    "    # Get all genres present in the graph\n",
    "    all_genres = set(nx.get_node_attributes(artist_undirected_graph, 'genre').values())\n",
    "\n",
    "    # Dictionary for the communities with each genre as key\n",
    "    communities = {genre: [] for genre in all_genres}\n",
    "\n",
    "    for node in artist_undirected_graph.nodes():\n",
    "\n",
    "        # Get genre of the node\n",
    "        genre = artist_undirected_graph.nodes[node]['genre']\n",
    "\n",
    "        # Add the node to the corresponding community\n",
    "        communities[genre].append(node)\n",
    "\n",
    "    return communities\n",
    "\n",
    "def compute_modularity(artist_undirected_graph, communities):\n",
    "    \"\"\"\n",
    "    Compute the modularity of the graph, i.e. the strength of the partition of the graph into communities.\n",
    "\n",
    "    Args\n",
    "        artist_undirected_graph: undirected graph of country musicians (nx.Graph)\n",
    "        communities: dictionary of communities (dict)\n",
    "\n",
    "    Returns\n",
    "        modularity: modularity of the graph (float)\n",
    "    \"\"\"\n",
    "\n",
    "    L = artist_undirected_graph.number_of_edges()  # Total number of links in the graph\n",
    "    n_c = len(communities)                         # Number of communities\n",
    "    community_modularities = np.zeros(n_c)         # Array for storing the modularity values of each community\n",
    "    \n",
    "    for i, c in enumerate(communities.keys()):\n",
    "        \n",
    "        # Number of links in the community\n",
    "        L_c = artist_undirected_graph.subgraph(communities[c]).number_of_edges()\n",
    "\n",
    "        # Sum of the degrees of the nodes in the community\n",
    "        k_c = np.sum([artist_undirected_graph.degree[node] for node in communities[c]])\n",
    "\n",
    "        # Modularity value for the community\n",
    "        community_modularities[i] = L_c / L - (k_c / (2 * L))**2\n",
    "\n",
    "    # Modularity of the partition\n",
    "    modularity = np.sum(community_modularities)\n",
    "\n",
    "    return modularity"
   ]
  },
  {
   "cell_type": "markdown",
   "metadata": {},
   "source": [
    "**Communities and modularity when each artist is characterized by their first genre**"
   ]
  },
  {
   "cell_type": "code",
   "execution_count": 92,
   "metadata": {},
   "outputs": [
    {
     "name": "stdout",
     "output_type": "stream",
     "text": [
      "Partion of the artist graph based on genre\n",
      "\tSelection method: first genre\n",
      "\tNumber of communities: 112 communities\n",
      "\tLargest community: 1221 artists\n",
      "\tSmallest community: 1 artist\n",
      "\tModularity: 0.0713\n"
     ]
    }
   ],
   "source": [
    "# Add the genre attribute to the nodes in the graph (selecting the first genre)\n",
    "artist_undirected_graph = add_genre_attribute(artist_genres_dict, artist_undirected_graph_preprocessed, selection_method = 'first')\n",
    "\n",
    "# Find communities in the graph based on genre\n",
    "communities = find_communities(artist_undirected_graph)\n",
    "\n",
    "# Compute the modularity of the partition\n",
    "modularity = compute_modularity(artist_undirected_graph, communities)\n",
    "\n",
    "print(f'Partion of the artist graph based on genre')\n",
    "print(f'\\tSelection method: first genre')\n",
    "print(f'\\tNumber of communities: {len(communities)} communities')\n",
    "print(f'\\tLargest community: {max([len(communities[genre]) for genre in communities])} artists')\n",
    "print(f'\\tSmallest community: {min([len(communities[genre]) for genre in communities])} artist')\n",
    "print(f'\\tModularity: {modularity:.4f}')"
   ]
  },
  {
   "cell_type": "markdown",
   "metadata": {},
   "source": [
    "**Communities and modularity when each artist is characterized by their first genre that is not `country`**"
   ]
  },
  {
   "cell_type": "code",
   "execution_count": 93,
   "metadata": {},
   "outputs": [
    {
     "name": "stdout",
     "output_type": "stream",
     "text": [
      "Partion of the artist graph based on genre\n",
      "\tSelection method: first genre that is not \"country\"\n",
      "\tNumber of communities: 141 communities\n",
      "\tLargest community: 765 artists\n",
      "\tSmallest community: 1 artist\n",
      "\tModularity: 0.0842\n"
     ]
    }
   ],
   "source": [
    "# Add the genre attribute to the nodes in the graph (selecting the first genre that is not 'country')\n",
    "artist_undirected_graph = add_genre_attribute(artist_genres_dict, artist_undirected_graph_preprocessed, selection_method = 'not_country')\n",
    "\n",
    "# Find communities in the graph based on genre\n",
    "communities = find_communities(artist_undirected_graph)\n",
    "\n",
    "# Compute the modularity of the partition\n",
    "modularity = compute_modularity(artist_undirected_graph, communities)\n",
    "\n",
    "print(f'Partion of the artist graph based on genre')\n",
    "print(f'\\tSelection method: first genre that is not \"country\"')\n",
    "print(f'\\tNumber of communities: {len(communities)} communities')\n",
    "print(f'\\tLargest community: {max([len(communities[genre]) for genre in communities])} artists')\n",
    "print(f'\\tSmallest community: {min([len(communities[genre]) for genre in communities])} artist')\n",
    "print(f'\\tModularity: {modularity:.4f}')"
   ]
  },
  {
   "cell_type": "code",
   "execution_count": null,
   "metadata": {},
   "outputs": [],
   "source": []
  },
  {
   "cell_type": "markdown",
   "metadata": {},
   "source": []
  },
  {
   "cell_type": "markdown",
   "metadata": {},
   "source": [
    "### **Exercise 1.3: Calculating the matrix $D$ and discussing the findings**"
   ]
  },
  {
   "cell_type": "markdown",
   "metadata": {},
   "source": [
    "### **Exercise 1.4: Plotting the communities**"
   ]
  },
  {
   "cell_type": "markdown",
   "metadata": {},
   "source": [
    "# **Part 2: TF-IDF to understand genres and communities**"
   ]
  },
  {
   "cell_type": "markdown",
   "metadata": {},
   "source": [
    "### **Exercise 2.1: The concept of TF-IDF**"
   ]
  },
  {
   "cell_type": "markdown",
   "metadata": {},
   "source": [
    "### **Exercise 2.2: Calculating and visualizing TF-IDF for the genres and communities**"
   ]
  },
  {
   "cell_type": "markdown",
   "metadata": {},
   "source": [
    "### **Exercise 2.3: Discussing the difference between the word-clouds between genres and communities**"
   ]
  },
  {
   "cell_type": "markdown",
   "metadata": {},
   "source": [
    "# **Part 3: Sentiment of the artists and communities**"
   ]
  },
  {
   "cell_type": "markdown",
   "metadata": {},
   "source": [
    "### **Exercise 3.1: Sentiment of the artist pages**"
   ]
  },
  {
   "cell_type": "markdown",
   "metadata": {},
   "source": [
    "### **Exercise 3.2: Sentiment of the largest communities**"
   ]
  }
 ],
 "metadata": {
  "kernelspec": {
   "display_name": "course02506",
   "language": "python",
   "name": "python3"
  },
  "language_info": {
   "codemirror_mode": {
    "name": "ipython",
    "version": 3
   },
   "file_extension": ".py",
   "mimetype": "text/x-python",
   "name": "python",
   "nbconvert_exporter": "python",
   "pygments_lexer": "ipython3",
   "version": "3.9.18"
  }
 },
 "nbformat": 4,
 "nbformat_minor": 2
}
