{
 "cells": [
  {
   "cell_type": "markdown",
   "metadata": {},
   "source": [
    "## **Assignment 2**  \n",
    "**02805 Social Graphs & Interactions**  \n",
    "\n",
    "**Group 13** \n",
    "- Anna Bøgevang Ekner (s193396)\n",
    "- Morten Møller Christensen (s204258)\n"
   ]
  },
  {
   "cell_type": "markdown",
   "metadata": {},
   "source": [
    "**Feedback from Assignment 1**\n",
    "- Don't scale the axes of the distributions (especially not x-axis), because we distort the distributions and will arrive to wrong conclusions. He said our in- and out-degree distributions look kinda weird and not how they would expect. \n",
    "- Instead of using plt.hist, bin the data as described in the Week 2 notebook and then plot with plt.bar. Make sure that when we do comparisons of distributions, the data should be binned in the same way. "
   ]
  },
  {
   "cell_type": "code",
   "execution_count": 30,
   "metadata": {},
   "outputs": [],
   "source": [
    "import warnings\n",
    "warnings.filterwarnings('ignore')\n",
    "import random\n",
    "import os\n",
    "import re\n",
    "import json\n",
    "import scipy\n",
    "import urllib.request\n",
    "import urllib.parse\n",
    "import numpy as np\n",
    "import networkx as nx\n",
    "import seaborn as sns\n",
    "import matplotlib\n",
    "import matplotlib.pyplot as plt\n",
    "from tqdm import tqdm\n",
    "from itertools import count\n",
    "import community\n",
    "\n",
    "\n",
    "sns.set_style('darkgrid')\n",
    "sns.set(font_scale=1.)"
   ]
  },
  {
   "cell_type": "markdown",
   "metadata": {},
   "source": [
    "# **Part 1: Genres and communities and plotting**"
   ]
  },
  {
   "cell_type": "markdown",
   "metadata": {},
   "source": [
    "### **Loading and pre-processing the undirected graph**"
   ]
  },
  {
   "cell_type": "code",
   "execution_count": 87,
   "metadata": {},
   "outputs": [],
   "source": [
    "def load_data():\n",
    "    \"\"\"\n",
    "    Load the artist genre data and the undirected country musician graph\n",
    "\n",
    "    Returns\n",
    "        artist_genres_dict: dictionary of artist genres (dict)\n",
    "        country_performer_undir_graph: undirected graph of country musicians (nx.Graph)\n",
    "    \"\"\"\n",
    "    # Load the artist genre data\n",
    "    artist_genres = open('artists_genres_dictionary.txt', 'r')\n",
    "    raw_data = artist_genres.read() \n",
    "\n",
    "    # Convert into dictionary\n",
    "    artist_genres_dict = eval(raw_data)\n",
    "\n",
    "    # Load the undirected graph from the json file\n",
    "    with open('undirected_graph.txt', 'r', encoding='utf-8') as f:\n",
    "        undirected_graph_json = json.load(f)\n",
    "\n",
    "    undirected_graph_data = json.loads(undirected_graph_json)\n",
    "    country_performer_undir_graph = nx.node_link_graph(undirected_graph_data)\n",
    "\n",
    "    return artist_genres_dict, country_performer_undir_graph\n",
    "\n",
    "artist_genres_dict, country_performer_undir_graph = load_data()\n"
   ]
  },
  {
   "cell_type": "markdown",
   "metadata": {},
   "source": [
    "Delete the cell below:"
   ]
  },
  {
   "cell_type": "code",
   "execution_count": 32,
   "metadata": {},
   "outputs": [
    {
     "name": "stdout",
     "output_type": "stream",
     "text": [
      "{'country': 1499, 'folk': 178, 'country rock': 171, 'americana': 157, 'pop': 157, 'bluegrass': 129, 'rock': 116, 'country pop': 109, 'gospel': 96, 'rockabilly': 80, 'blues': 79, 'alternative country': 73, 'folk rock': 60, 'southern rock': 51, 'rock and roll': 50, 'outlaw country': 40, 'country music': 36, 'pop rock': 35, 'jazz': 34, 'soft rock': 34, 'progressive country': 31, 'roots rock': 29, 'neotraditional country': 27, 'western swing': 27, 'blues rock': 24, 'honky-tonk': 23, 'soul': 23, 'alternative rock': 20, 'texas country': 20, 'western': 20, 'hard rock': 19, 'progressive bluegrass': 17, 'country folk': 15, 'red dirt': 15, 'traditional pop': 15, 'nashville sound': 14, 'old-time': 14, 'country rap': 12, 'honky tonk': 12, 'indie rock': 12, 'bakersfield sound': 11, 'christian': 11, 'hip hop': 11, 'ccm': 10, 'indie folk': 10, 'heartland rock': 9, 'old-time music': 9, 'adult contemporary': 8, 'alt-country': 8, 'ameripolitan': 8, 'countrypolitan': 8, 'jam band': 8, 'southern gospel': 8, 'comedy': 7, 'easy listening': 7, 'heavy metal': 7, 'blue-eyed soul': 6, 'bluegrass music': 6, 'cajun': 6, 'celtic': 6, 'tex-mex': 6, 'alternative': 5, 'classical': 5, 'cowpunk': 5, 'edm': 5, 'psychobilly': 5, 'rhythm and blues': 5, 'rock music': 5, 'singer-songwriter': 5, 'swing': 5, 'truck-driving country': 5, 'acoustic': 4, 'christian country': 4, 'christian music': 4, 'contemporary christian': 4, 'dance-pop': 4, 'folk music': 4, 'folk-pop': 4, 'glam metal': 4, 'new mexico music': 4, 'psychedelia': 4, 'psychedelic rock': 4, 'southern soul': 4, 'trap': 4, 'and': 3, 'boogie-woogie': 3, 'contemporary christian music': 3, 'contemporary folk': 3, 'country blues': 3, 'dance': 3, 'garage rock': 3, 'grunge': 3, 'indie': 3, 'jazz rock': 3, 'latin music': 3, 'post-grunge': 3, 'power pop': 3, 'roots': 3, 'southern hip hop': 3, 'swamp rock': 3, 'tejano': 3, 'traditional country': 3, 'vocal jazz': 3, 'acoustic music': 2, 'arena rock': 2, 'bro-country': 2, 'bubblegum': 2, 'canadiana': 2, 'celtic rock': 2, 'christmas': 2, 'citation needed': 2, 'corrido': 2, 'country and irish': 2, 'country and western': 2, 'country soul': 2, 'country-soul': 2, 'cumbia': 2, 'electronic': 2, 'electropop': 2, 'experimental rock': 2, 'folk blues': 2, 'folk-rock': 2, 'gothic country': 2, 'indie pop': 2, 'mariachi': 2, 'musical theatre': 2, 'neotraditional': 2, 'neotraditionalist country': 2, 'novelty': 2, 'nu metal': 2, 'observational comedy': 2, 'parody': 2, 'pop punk': 2, 'pop rap': 2, 'punk': 2, 'punk rock': 2, 'ranchera': 2, 'rap rock': 2, 'reggae': 2, 'roots music': 2, 'satire': 2, 'surf': 2, 'texas country music': 2, 'tropical rock': 2, 'word play': 2, 'world': 2, 'a cappella': 1, 'acid rock': 1, 'acoustic pop': 1, 'adult contemporary music': 1, 'afrobeats': 1, 'album oriented rock': 1, 'alt country': 1, 'alternative metal': 1, 'american folk music': 1, 'americana country': 1, 'americana music': 1, 'and southern gospel': 1, 'aor': 1, 'appalachian': 1, 'appalachian folk': 1, 'appalachian rock n roll': 1, 'art rock': 1, 'australian country': 1, 'australiana': 1, 'big band': 1, 'blue comedy': 1, 'bluegrass gospel': 1, 'blues music': 1, 'blues-rock': 1, 'boogie': 1, 'bush ballad': 1, 'cabaret': 1, 'cajun music': 1, 'calypso': 1, 'chamber pop': 1, 'character comedy': 1, 'christian contemporary': 1, 'christian country music': 1, 'christian pop': 1, 'christian rock': 1, 'classical crossover': 1, 'comedy rock': 1, 'contemporary': 1, 'contemporary worship music': 1, 'country and western music': 1, 'country comedy': 1, 'country disco': 1, 'country gospel': 1, 'country-folk': 1, 'country-pop': 1, 'cowboy music': 1, 'crossover': 1, 'delta blues': 1, 'doo wop': 1, 'dream pop': 1, 'dutch pop': 1, 'electric blues': 1, 'electro': 1, 'electro house': 1, 'electronicore': 1, 'emo pop': 1, 'experimental': 1, 'film music': 1, 'film score': 1, 'folk and country': 1, 'folk punk': 1, 'folk\\\\xa0rock': 1, 'folktronica': 1, 'freak folk': 1, 'future bass': 1, 'garage rock revival': 1, 'gospel music': 1, 'gulf and western': 1, 'gypsy': 1, 'gypsy jazz': 1, 'hardcore punk': 1, 'hawaiian': 1, 'hick-hop': 1, 'hillbilly': 1, 'hiphop': 1, 'holiday': 1, 'improvisational comedy': 1, 'instrumental rock': 1, 'insult comedy': 1, 'irish': 1, 'irish traditional music': 1, 'jamgrass': 1, 'jangle pop': 1, 'jazz music': 1, 'latin': 1, 'latin pop': 1, 'latin rock': 1, 'lo-fi': 1, 'louisiana creole music': 1, 'lounge': 1, 'metalcore': 1, 'mexican pop': 1, 'moombahton': 1, 'mpb': 1, 'musical comedy': 1, 'neo-psychedelia': 1, 'neo-traditionalist country': 1, 'neotraditonal country': 1, 'new wave': 1, 'observational': 1, 'old time': 1, 'oldies': 1, 'opera': 1, 'patriotic': 1, 'physical comedy': 1, 'political satire': 1, 'post-hardcore': 1, 'prog music': 1, 'progressive': 1, 'progressive folk': 1, 'progressive house': 1, 'protest music': 1, 'proto-punk': 1, 'regional mexican': 1, 'rock n roll': 1, 'schlager': 1, 'sertanejo': 1, 'sitcom': 1, 'ska': 1, 'ska punk': 1, 'sketch comedy': 1, 'soul pop': 1, 'southern metal': 1, 'string band': 1, 'surf rock': 1, 'swamp pop': 1, 'talking blues': 1, 'teen pop': 1, 'traditional': 1, 'tulsa sound': 1, 'twang': 1, 'vocal pop': 1, 'western films': 1, 'western music': 1, 'world music': 1, 'worship': 1, 'zydeco': 1}\n"
     ]
    }
   ],
   "source": [
    "# Check the counts of each genre (value) in the artist_genres_dict\n",
    "genres = list(artist_genres_dict.values())\n",
    "genres_flat = [x for xs in genres for x in xs]\n",
    "values, counts = np.unique(genres_flat, return_counts=True)\n",
    "not_one = (counts != 1).sum()\n",
    "# print(not_one)\n",
    "# print(values)\n",
    "\n",
    "# Dictionary of genre and their counts\n",
    "genre_counts = dict(zip(values, counts))\n",
    "\n",
    "# sort after highest values\n",
    "genre_counts = dict(sorted(genre_counts.items(), key=lambda item: item[1], reverse=True))\n",
    "print(genre_counts)"
   ]
  },
  {
   "cell_type": "code",
   "execution_count": 33,
   "metadata": {},
   "outputs": [
    {
     "name": "stdout",
     "output_type": "stream",
     "text": [
      "Artist genre dictionary\n",
      "\tNumber of artists: 1833\n",
      "\n",
      "Artist graph (undirected)\n",
      "\tNumber of nodes: 1833\n",
      "\tNumber of edges: 13943\n"
     ]
    }
   ],
   "source": [
    "def preprocess_graph(artist_genres_dict, country_performer_undir_graph):\n",
    "    \"\"\" \n",
    "    Preprocess the graph by keeping only the nodes that have genre information, \n",
    "    and also remove the article_length attribute from all nodes.\n",
    "\n",
    "    Args\n",
    "        artist_genres_dict: dictionary of artist genres (dict)\n",
    "        country_performer_undir_graph: undirected graph of country musicians (nx.Graph)\n",
    "\n",
    "    Returns\n",
    "        artist_undirected_graph: preprocessed undirected graph of country musicians (nx.Graph)\n",
    "    \"\"\"\n",
    "    # Keep only the nodes that have genre information\n",
    "    artist_undirected_graph = country_performer_undir_graph.copy()\n",
    "\n",
    "    for node in list(country_performer_undir_graph.nodes()):\n",
    "\n",
    "        # Remove the article_length attribute\n",
    "        if 'article_length' in artist_undirected_graph.nodes[node]:\n",
    "            del artist_undirected_graph.nodes[node]['article_length']\n",
    "\n",
    "        if node.replace('_', ' ') not in artist_genres_dict:\n",
    "            artist_undirected_graph.remove_node(node)\n",
    "\n",
    "    return artist_undirected_graph\n",
    "\n",
    "artist_undirected_graph_preprocessed = preprocess_graph(artist_genres_dict, country_performer_undir_graph)\n",
    "\n",
    "print(f'Artist genre dictionary')\n",
    "print(f'\\tNumber of artists: {len(artist_genres_dict)}\\n')\n",
    "\n",
    "print(f'Artist graph (undirected)')\n",
    "print(f'\\tNumber of nodes: {artist_undirected_graph_preprocessed.number_of_nodes()}')\n",
    "print(f'\\tNumber of edges: {artist_undirected_graph_preprocessed.number_of_edges()}')"
   ]
  },
  {
   "cell_type": "markdown",
   "metadata": {},
   "source": [
    "### **Exercise 1.1: Genres and modularity**"
   ]
  },
  {
   "cell_type": "markdown",
   "metadata": {},
   "source": [
    "Write about genres and modularity. \n",
    "\n",
    "See Network Science, Section 9.4, and reference it with: [[Network Science, Section 9.4]](https://networksciencebook.com/chapter/9#modularity) \n",
    "\n",
    "Mention Equation (9.12): \n",
    "\n",
    "\\begin{equation}\n",
    "M = \\sum\\limits^{n_c}_{c=1} \\left[ \\dfrac{L_c}{L} - \\left(\\dfrac{k_c}{2L}\\right)^2 \\right], \\quad (\\text{Equation } 9.12)\n",
    "\\end{equation}\n",
    "\n",
    "where $L$ is the number of links in the network, $n_c$ is the number of communities in the partition, while $L_c$ and $k_c$ are the number of links and total degree of the nodes, respectively, for the community $c$. "
   ]
  },
  {
   "cell_type": "markdown",
   "metadata": {},
   "source": [
    "### **Exercise 1.2: Detecting communities and the value of modularity in comparison to the genres**"
   ]
  },
  {
   "cell_type": "markdown",
   "metadata": {},
   "source": [
    "Detect the communities, discuss the value of modularity in comparison to the genres. "
   ]
  },
  {
   "cell_type": "code",
   "execution_count": 84,
   "metadata": {},
   "outputs": [],
   "source": [
    "def add_genre_attribute(artist_genres_dict, artist_undirected_graph, selection_method = 'first'):\n",
    "    \"\"\"\n",
    "    Add the genre attribute to the nodes in the graph, either by selecting the \n",
    "    first genre in the list or by selecting the first genre that is not 'country'.\n",
    "\n",
    "    Args\n",
    "        artist_genres_dict: dictionary of artist genres (dict)\n",
    "        artist_undirected_graph: undirected graph of country musicians (nx.Graph)\n",
    "        selection_method: method to select the genre, either 'first' or 'not_country' (str)\n",
    "\n",
    "    Returns\n",
    "        artist_undirected_graph: undirected graph of country musicians with genre attribute (nx.Graph)\n",
    "    \"\"\"\n",
    "\n",
    "    for node in list(artist_undirected_graph.nodes()):\n",
    "\n",
    "        # Get the genres of the artist\n",
    "        genres = artist_genres_dict[node.replace('_', ' ')]\n",
    "\n",
    "        # Select the genre based on the selection method\n",
    "        if selection_method == 'first':\n",
    "            genre = genres[0]\n",
    "\n",
    "        elif selection_method == 'not_country':\n",
    "\n",
    "            # If the artist has only one genre, select it\n",
    "            if len(genres) == 1:\n",
    "                genre = genres[0]\n",
    "\n",
    "            # If the artist has multiple genres, select the first genre that is not 'country'\n",
    "            else:\n",
    "                genre = [g for g in genres if g != 'country'][0]\n",
    "        \n",
    "        # Add the genre attribute to the node\n",
    "        artist_undirected_graph.nodes[node]['genre'] = genre\n",
    "\n",
    "\n",
    "    return artist_undirected_graph\n",
    "\n",
    "def find_communities_genres(artist_undirected_graph):\n",
    "    \"\"\"\n",
    "    Find the communities in the graph, i.e. groups of nodes that share the same genre.\n",
    "    Each node is characterized by the first genre in its list of genres.\n",
    "\n",
    "    Args\n",
    "        artist_undirected_graph: undirected graph of country musicians (nx.Graph)\n",
    "\n",
    "    Returns\n",
    "        communities: dictionary of communities, where keys are genres and values are \n",
    "                     nodes characterized by that genre (dict)\n",
    "    \"\"\"\n",
    "\n",
    "    # Get all genres present in the graph\n",
    "    all_genres = set(nx.get_node_attributes(artist_undirected_graph, 'genre').values())\n",
    "\n",
    "    # Dictionary for the communities with each genre as key\n",
    "    communities = {genre: [] for genre in all_genres}\n",
    "\n",
    "    for node in artist_undirected_graph.nodes():\n",
    "\n",
    "        # Get genre of the node\n",
    "        genre = artist_undirected_graph.nodes[node]['genre']\n",
    "\n",
    "        # Add the node to the corresponding community\n",
    "        communities[genre].append(node)\n",
    "\n",
    "    return communities\n",
    "\n",
    "def compute_modularity(artist_undirected_graph, communities):\n",
    "    \"\"\"\n",
    "    Compute the modularity of the graph, i.e. the strength of the partition of the graph into communities.\n",
    "\n",
    "    Args\n",
    "        artist_undirected_graph: undirected graph of country musicians (nx.Graph)\n",
    "        communities: dictionary of communities (dict)\n",
    "\n",
    "    Returns\n",
    "        modularity: modularity of the graph (float)\n",
    "    \"\"\"\n",
    "\n",
    "    L = artist_undirected_graph.number_of_edges()  # Total number of links in the graph\n",
    "    n_c = len(communities)                         # Number of communities\n",
    "    community_modularities = np.zeros(n_c)         # Array for storing the modularity values of each community\n",
    "    \n",
    "    for i, c in enumerate(communities.keys()):\n",
    "        \n",
    "        # Number of links in the community\n",
    "        L_c = artist_undirected_graph.subgraph(communities[c]).number_of_edges()\n",
    "\n",
    "        # Sum of the degrees of the nodes in the community\n",
    "        k_c = np.sum([artist_undirected_graph.degree[node] for node in communities[c]])\n",
    "\n",
    "        # Modularity value for the community\n",
    "        community_modularities[i] = L_c / L - (k_c / (2 * L))**2\n",
    "\n",
    "    # Modularity of the partition\n",
    "    modularity = np.sum(community_modularities)\n",
    "\n",
    "    return modularity"
   ]
  },
  {
   "cell_type": "markdown",
   "metadata": {},
   "source": [
    "**Communities and modularity when each artist is characterized by their first genre**"
   ]
  },
  {
   "cell_type": "code",
   "execution_count": 80,
   "metadata": {},
   "outputs": [
    {
     "name": "stdout",
     "output_type": "stream",
     "text": [
      "Partion of the artist graph based on genre\n",
      "\tSelection method: first genre\n",
      "\tNumber of communities: 112 communities\n",
      "\tLargest community: 1221 artists\n",
      "\tSmallest community: 1 artist\n",
      "\tModularity: 0.0713\n"
     ]
    }
   ],
   "source": [
    "# Add the genre attribute to the nodes in the graph (selecting the first genre)\n",
    "artist_undirected_graph = add_genre_attribute(artist_genres_dict, artist_undirected_graph_preprocessed, selection_method = 'first')\n",
    "\n",
    "# Find communities in the graph based on genre\n",
    "communities = find_communities_genres(artist_undirected_graph)\n",
    "\n",
    "# Compute the modularity of the partition\n",
    "modularity = compute_modularity(artist_undirected_graph, communities)\n",
    "\n",
    "print(f'Partion of the artist graph based on genre')\n",
    "print(f'\\tSelection method: first genre')\n",
    "print(f'\\tNumber of communities: {len(communities)} communities')\n",
    "print(f'\\tLargest community: {max([len(communities[genre]) for genre in communities])} artists')\n",
    "print(f'\\tSmallest community: {min([len(communities[genre]) for genre in communities])} artist')\n",
    "print(f'\\tModularity: {modularity:.4f}')"
   ]
  },
  {
   "cell_type": "markdown",
   "metadata": {},
   "source": [
    "**Communities and modularity when each artist is characterized by their first genre that is not `country`**"
   ]
  },
  {
   "cell_type": "code",
   "execution_count": 81,
   "metadata": {},
   "outputs": [
    {
     "name": "stdout",
     "output_type": "stream",
     "text": [
      "Partion of the artist graph based on genre\n",
      "\tSelection method: first genre that is not \"country\"\n",
      "\tNumber of communities: 141 communities\n",
      "\tLargest community: 765 artists\n",
      "\tSmallest community: 1 artist\n",
      "\tModularity: 0.0842\n"
     ]
    }
   ],
   "source": [
    "# Add the genre attribute to the nodes in the graph (selecting the first genre that is not 'country')\n",
    "artist_undirected_graph = add_genre_attribute(artist_genres_dict, artist_undirected_graph_preprocessed, selection_method = 'not_country')\n",
    "\n",
    "# Find communities in the graph based on genre\n",
    "communities = find_communities_genres(artist_undirected_graph)\n",
    "\n",
    "# Compute the modularity of the partition\n",
    "modularity = compute_modularity(artist_undirected_graph, communities)\n",
    "\n",
    "print(f'Partion of the artist graph based on genre')\n",
    "print(f'\\tSelection method: first genre that is not \"country\"')\n",
    "print(f'\\tNumber of communities: {len(communities)} communities')\n",
    "print(f'\\tLargest community: {max([len(communities[genre]) for genre in communities])} artists')\n",
    "print(f'\\tSmallest community: {min([len(communities[genre]) for genre in communities])} artist')\n",
    "print(f'\\tModularity: {modularity:.4f}')"
   ]
  },
  {
   "cell_type": "code",
   "execution_count": 101,
   "metadata": {},
   "outputs": [],
   "source": [
    "def find_communities_louvain(artist_undirected_graph):\n",
    "    \"\"\"\n",
    "    Find the communities in the graph using the Louvain algorithm.\n",
    "\n",
    "    Args\n",
    "        artist_undirected_graph: undirected graph of country musicians (nx.Graph)\n",
    "\n",
    "    Returns\n",
    "        communities: dictionary of communities, where keys are genres and values are \n",
    "                     nodes characterized by that genre (dict)\n",
    "    \"\"\"\n",
    "    # Run Louvain algorithm\n",
    "    communities_louvain = nx.community.louvain_communities(artist_undirected_graph, seed = 0)\n",
    "\n",
    "    # Dictionary for the communities with each genre as key\n",
    "    communities = {}\n",
    "\n",
    "    for i, community in enumerate(communities_louvain):\n",
    "        \n",
    "        # Add each artist in the community to the dictionary\n",
    "        communities[i] = list(community)\n",
    "    \n",
    "    return communities\n",
    "\n",
    "def find_communities_genres_all(artist_genres_dict):\n",
    "    \"\"\" \n",
    "    Find the communities in the graph, where each node is characterized by all of the genres in its list of genres.\n",
    "\n",
    "    Args\n",
    "        artist_genres_dict: dictionary of artist genres (dict)\n",
    "\n",
    "    Returns\n",
    "        communities: dictionary of communities, where keys are genres and values are \n",
    "                     nodes characterized by that genre (dict)\n",
    "    \"\"\"\n",
    "    \n",
    "    # Get all unique values from the dictionary\n",
    "    all_genres = set([genre for genres in artist_genres_dict.values() for genre in genres])\n",
    "\n",
    "    # Dictionary for the communities with each genre as key\n",
    "    communities = {genre: [] for genre in all_genres}\n",
    "\n",
    "    for artist in artist_genres_dict.keys():\n",
    "        \n",
    "        # Get the genres of the artist\n",
    "        genres = artist_genres_dict[artist]\n",
    "\n",
    "        for genre in genres:\n",
    "            communities[genre].append(artist.replace(' ', '_'))\n",
    "\n",
    "    return communities"
   ]
  },
  {
   "cell_type": "code",
   "execution_count": 133,
   "metadata": {},
   "outputs": [
    {
     "name": "stdout",
     "output_type": "stream",
     "text": [
      "Partion of the artist graph based on Louvain algorithm\n",
      "\tNumber of communities: 12 communities\n",
      "\tLargest community: 476 artists\n",
      "\tSmallest community: 1 artist\n",
      "\tModularity: 0.3932\n"
     ]
    }
   ],
   "source": [
    "# Find communities in the graph based on genre (selecting all genres for each artist)\n",
    "communities_genres_all = find_communities_genres_all(artist_genres_dict)\n",
    "\n",
    "# Find communities in the graph based on Louvain algorithm\n",
    "communities_louvain = find_communities_louvain(artist_undirected_graph)\n",
    "\n",
    "# Compute the modularity of the partition (Louvain)\n",
    "modularity = compute_modularity(artist_undirected_graph, communities_louvain)\n",
    "\n",
    "print(f'Partion of the artist graph based on Louvain algorithm')\n",
    "print(f'\\tNumber of communities: {len(communities_louvain)} communities')\n",
    "print(f'\\tLargest community: {max([len(communities_louvain[i]) for i in communities_louvain])} artists')\n",
    "print(f'\\tSmallest community: {min([len(communities_louvain[i]) for i in communities_louvain])} artist')\n",
    "print(f'\\tModularity: {modularity:.4f}')"
   ]
  },
  {
   "cell_type": "markdown",
   "metadata": {},
   "source": [
    "To-do:\n",
    "\n",
    "- Find Louvain communities with `communities` library (or use `networkx.communities.louvain_communities`), and compute modularity. \n"
   ]
  },
  {
   "cell_type": "markdown",
   "metadata": {},
   "source": [
    "### **Exercise 1.3: Calculating the matrix $D$ and discussing the findings**"
   ]
  },
  {
   "cell_type": "code",
   "execution_count": 153,
   "metadata": {},
   "outputs": [],
   "source": [
    "def get_n_most_common_communities(community_dict, n=1):\n",
    "    \"\"\"\n",
    "    Get the n most common communities in the community dictionary\n",
    "    \n",
    "    Args\n",
    "        community_dict: dictionary of communities (dict)\n",
    "        n: number of most common communities to return (int)\n",
    "        \n",
    "    Returns\n",
    "        most_common_communities: list of the n most common communities (list)\n",
    "        community_to_artists: dictionary of genres to artists (dict)\n",
    "    \"\"\"\n",
    "\n",
    "    genre_counts = {genre: len(community_dict[genre]) for genre in community_dict}\n",
    "    most_common_communities = sorted(genre_counts, key=genre_counts.get, reverse=True)[:n]\n",
    "\n",
    "    community_to_artists = {genre: community_dict[genre] for genre in most_common_communities}\n",
    "    \n",
    "\n",
    "    return community_to_artists\n",
    "\n",
    "communities_louvain_common = get_n_most_common_communities(communities_louvain, n=7)\n",
    "communities_genres_all_common = get_n_most_common_communities(communities_genres_all, n=7)"
   ]
  },
  {
   "cell_type": "code",
   "execution_count": 140,
   "metadata": {},
   "outputs": [
    {
     "data": {
      "image/png": "[encoded data removed]",
      "text/plain": [
       "<Figure size 1000x1000 with 2 Axes>"
      ]
     },
     "metadata": {},
     "output_type": "display_data"
    }
   ],
   "source": [
    "def create_confusion_matrix(communities_louvain_common, communities_genres_all_common):\n",
    "    \"\"\"\n",
    "    Create a confusion matrix between the communities found by the Louvain algorithm and the communities based on all genres\n",
    "\n",
    "    Args\n",
    "        communities_louvain_common: dictionary of communities found by Louvain algorithm (dict)\n",
    "        communities_genres_all_common: dictionary of communities based on all genres (dict)\n",
    "\n",
    "    Returns\n",
    "        confusion_matrix: confusion matrix between the communities (np.array)\n",
    "    \"\"\"\n",
    "\n",
    "    confusion_matrix = np.zeros((len(communities_louvain_common), len(communities_genres_all_common)))\n",
    "    for i, genre_louvain in enumerate(communities_louvain_common): \n",
    "        for j, genre_all in enumerate(communities_genres_all_common):\n",
    "            intersection = set(communities_louvain_common[genre_louvain]) & set(communities_genres_all_common[genre_all])\n",
    "            confusion_matrix[j, i] = len(intersection)\n",
    "\n",
    "    return confusion_matrix\n",
    "\n",
    "\n",
    "\n",
    "\n",
    "D = create_confusion_matrix(communities_louvain_common, communities_genres_all_common)\n",
    "\n",
    "def plot_confusion_matrix(D, communities_louvain_common, communities_genres_all_common):\n",
    "    \"\"\"\n",
    "    Plot the confusion matrix between the communities found by the Louvain algorithm and the communities based on all genres\n",
    "\n",
    "    Args\n",
    "        D: confusion matrix between the communities (np.array)\n",
    "        community_louvain_dict: dictionary of communities found by Louvain algorithm (dict)\n",
    "        community_genres_all_dict: dictionary of communities based on all genres (dict)\n",
    "    \"\"\"\n",
    "\n",
    "    fig, ax = plt.subplots(figsize=(10, 10))\n",
    "    \n",
    "    sns.heatmap(D, annot=True, fmt='g', cmap='Blues',\n",
    "                xticklabels=communities_louvain_common, \n",
    "                yticklabels=communities_genres_all_common)\n",
    "    \n",
    "    plt.xlabel('Communities (Louvain algorithm)')\n",
    "    plt.ylabel('Communities (all genres)')\n",
    "    plt.title('Confusion matrix between communities')\n",
    "    plt.show()\n",
    "\n",
    "plot_confusion_matrix(D, communities_louvain_common, communities_genres_all_common)"
   ]
  },
  {
   "cell_type": "markdown",
   "metadata": {},
   "source": [
    "To-do:\n",
    "\n",
    "- Confusion matrix of comparison between genre (with `all` selection method) vs. communities, and discuss. "
   ]
  },
  {
   "cell_type": "markdown",
   "metadata": {},
   "source": [
    "### **Exercise 1.4: Plotting the communities**"
   ]
  },
  {
   "cell_type": "markdown",
   "metadata": {},
   "source": [
    "To-do:\n",
    "\n",
    "- Plot and compare communities found based on genre vs. communities found based on Louvain algorithm. "
   ]
  },
  {
   "cell_type": "markdown",
   "metadata": {},
   "source": [
    "# **Part 2: TF-IDF to understand genres and communities**"
   ]
  },
  {
   "cell_type": "markdown",
   "metadata": {},
   "source": [
    "### **Exercise 2.1: The concept of TF-IDF**"
   ]
  },
  {
   "cell_type": "markdown",
   "metadata": {},
   "source": [
    "### **Exercise 2.2: Calculating and visualizing TF-IDF for the genres and communities**"
   ]
  },
  {
   "cell_type": "markdown",
   "metadata": {},
   "source": [
    "To-do:\n",
    "\n",
    "- Word-clouds of both genre communities and Louvain communities.\n",
    "\n",
    "- Subplot with 6 word-clouds for each (3x2). "
   ]
  },
  {
   "cell_type": "markdown",
   "metadata": {},
   "source": [
    "### **Exercise 2.3: Discussing the difference between the word-clouds between genres and communities**"
   ]
  },
  {
   "cell_type": "markdown",
   "metadata": {},
   "source": [
    "To-do:\n",
    "\n",
    "- Discuss (using confusion matrix from previous exercise) the difference between word-clouds of genre communities and Louvain communities. Look at what the artists with a Louvain community has in common, since it is not (at least not only) based on genre?"
   ]
  },
  {
   "cell_type": "markdown",
   "metadata": {},
   "source": [
    "# **Part 3: Sentiment of the artists and communities**"
   ]
  },
  {
   "cell_type": "markdown",
   "metadata": {},
   "source": [
    "### **Exercise 3.1: Sentiment of the artist pages**"
   ]
  },
  {
   "cell_type": "markdown",
   "metadata": {},
   "source": [
    "To-do:\n",
    "\n",
    "- Histogram of sentiment across artists (don't crop). Do statistics. \n",
    "\n",
    "- Maybe a boxplot?? "
   ]
  },
  {
   "cell_type": "markdown",
   "metadata": {},
   "source": [
    "### **Exercise 3.2: Sentiment of the largest communities**"
   ]
  }
 ],
 "metadata": {
  "kernelspec": {
   "display_name": "course02506",
   "language": "python",
   "name": "python3"
  },
  "language_info": {
   "codemirror_mode": {
    "name": "ipython",
    "version": 3
   },
   "file_extension": ".py",
   "mimetype": "text/x-python",
   "name": "python",
   "nbconvert_exporter": "python",
   "pygments_lexer": "ipython3",
   "version": "3.9.16"
  }
 },
 "nbformat": 4,
 "nbformat_minor": 2
}
