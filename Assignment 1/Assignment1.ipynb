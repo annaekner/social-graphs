{
 "cells": [
  {
   "cell_type": "markdown",
   "metadata": {},
   "source": [
    "## **Assignment 1**  \n",
    "**02805 Social Graphs & Interactions**  \n",
    "\n",
    "**Group 13** \n",
    "- Anna Bøgevang Ekner (s193396)\n",
    "- Morten Møller Christensen (s204258)\n"
   ]
  },
  {
   "cell_type": "code",
   "execution_count": 1,
   "metadata": {},
   "outputs": [],
   "source": [
    "import warnings\n",
    "warnings.filterwarnings('ignore')\n",
    "import random\n",
    "import os\n",
    "import re\n",
    "import json\n",
    "import scipy\n",
    "import urllib.request\n",
    "import urllib.parse\n",
    "import numpy as np\n",
    "import networkx as nx\n",
    "import seaborn as sns\n",
    "import matplotlib\n",
    "import matplotlib.pyplot as plt\n",
    "from tqdm import tqdm\n",
    "\n",
    "sns.set_style('darkgrid')\n",
    "sns.set(font_scale=1.)"
   ]
  },
  {
   "cell_type": "markdown",
   "metadata": {},
   "source": [
    "# **Part 1: Exploring the friendship paradox**"
   ]
  },
  {
   "cell_type": "markdown",
   "metadata": {},
   "source": [
    "### **Exercise 1.1: The friendship paradox in BA networks**\n",
    "  "
   ]
  },
  {
   "cell_type": "markdown",
   "metadata": {},
   "source": [
    "**Building the Barabasi-Albert (BA) network**"
   ]
  },
  {
   "cell_type": "code",
   "execution_count": 2,
   "metadata": {},
   "outputs": [],
   "source": [
    "def choose_node_preferential_attachment(BA, seed):\n",
    "    \"\"\" \n",
    "    Function for choosing a node in a Barabasi-Albert network using preferential attachment \n",
    "\n",
    "    Args \n",
    "        BA: networkx graph object of a Barabasi-Albert network\n",
    "        seed: random seed\n",
    "\n",
    "    Returns\n",
    "        node: node in the network\n",
    "    \n",
    "    \"\"\"\n",
    "\n",
    "    # All edges in the network\n",
    "    all_edges = list(BA.edges()) \n",
    "\n",
    "    # List were each node appears as many times as its degree\n",
    "    node_list = [item for sublist in all_edges for item in sublist]\n",
    "\n",
    "    # Choose a node with probability proportional to its degree\n",
    "    node = np.random.default_rng(seed).choice(node_list)\n",
    "    \n",
    "    return node\n",
    "\n",
    "def Barabasi_Albert(N = 100):\n",
    "    \"\"\" \n",
    "    Function for generating a Barabasi-Albert network \n",
    "\n",
    "    Args\n",
    "        N: number of nodes in the network\n",
    "    \n",
    "    Returns\n",
    "        BA: networkx graph object of a Barabasi-Albert network\n",
    "    \"\"\"\n",
    "\n",
    "    # Create initial graph of two nodes with an edge between them\n",
    "    BA = nx.Graph()\n",
    "\n",
    "    BA.add_nodes_from([0, 1])\n",
    "    BA.add_edge(0, 1)\n",
    "\n",
    "    for i in range(2, N):\n",
    "\n",
    "        # Choose a node to connect to through preferential attachment\n",
    "        node = choose_node_preferential_attachment(BA, seed = i)\n",
    "\n",
    "        # Add node to graph\n",
    "        BA.add_node(i)\n",
    "        BA.add_edge(i, node)\n",
    "        \n",
    "    return BA"
   ]
  },
  {
   "cell_type": "code",
   "execution_count": 3,
   "metadata": {},
   "outputs": [],
   "source": [
    "# Generate Barabasi-Albert network with 5000 nodes\n",
    "F_BA = Barabasi_Albert(N = 5000)"
   ]
  },
  {
   "cell_type": "markdown",
   "metadata": {},
   "source": [
    "**The friendship paradox**"
   ]
  },
  {
   "cell_type": "code",
   "execution_count": 4,
   "metadata": {},
   "outputs": [],
   "source": [
    "def friendship_paradox(graph, iterations = 1000):\n",
    "    \"\"\" \n",
    "    Compute the fraction of nodes for which the Friendship Paradox holds in a network \n",
    "    \n",
    "    Args \n",
    "        graph: networkx graph object\n",
    "        iterations: number of iterations to run the simulation\n",
    "    \n",
    "    Returns\n",
    "        fraction: fraction of nodes for which the Friendship Paradox holds\n",
    "    \n",
    "    \"\"\"\n",
    "    all_nodes = list(graph.nodes())   # All nodes in the network\n",
    "    count = 0                         # Counter for the number of times the Friendship Paradox holds\n",
    "\n",
    "    for i in range(iterations):\n",
    "        \n",
    "        # Choose a random node\n",
    "        node = np.random.default_rng(seed = i).choice(all_nodes)\n",
    "\n",
    "        # Degree of the random node\n",
    "        degree = graph.degree(node)\n",
    "\n",
    "        # Neighbors of the random node\n",
    "        neighbors = list(graph.neighbors(node))\n",
    "\n",
    "        # Average degree of neighbors\n",
    "        neighbor_degrees = [graph.degree(neighbor) for neighbor in neighbors]\n",
    "        avg_neighbor_degree = np.mean(neighbor_degrees)\n",
    "\n",
    "        # Increase counter if the Friendship Paradox holds\n",
    "        if degree < avg_neighbor_degree:\n",
    "            count += 1\n",
    "    \n",
    "    # Compute fraction of times the Friendship Paradox holds\n",
    "    fraction = count / iterations\n",
    "    \n",
    "    return fraction"
   ]
  },
  {
   "cell_type": "code",
   "execution_count": 5,
   "metadata": {},
   "outputs": [
    {
     "name": "stdout",
     "output_type": "stream",
     "text": [
      "Fraction of nodes for which the Friendship Paradox holds in the F-BA network: 0.85\n"
     ]
    }
   ],
   "source": [
    "# Investigating the Friendship Paradox in the BA network\n",
    "fraction = friendship_paradox(F_BA, iterations = 1000)\n",
    "print(f'Fraction of nodes for which the Friendship Paradox holds in the F-BA network: {fraction:.2f}')"
   ]
  },
  {
   "cell_type": "markdown",
   "metadata": {},
   "source": [
    "From the above computations it is seen that for the Barabasi-Albert (BA) network, the fraction of nodes for which the Friendship Paradox holds is $0.85$. This is due to the preferential attachment characteristic of the BA network, resulting in many nodes having a lower degree than their neighbors."
   ]
  },
  {
   "cell_type": "markdown",
   "metadata": {},
   "source": [
    "### **Exercise 1.2: The friendship paradox more generally**\n",
    "   "
   ]
  },
  {
   "cell_type": "markdown",
   "metadata": {},
   "source": [
    "For $2 < \\gamma < 3$, the network is in the *scale-free regime* and is therefore *ultra-small*. Here, the hubs (i.e. high-degree nodes) in the network reduce the average path length $‹d›$ a lot, since the hubs link to many small-degree nodes and therefore create short distances between them. However, when making the power law flatter by reducing $\\gamma$ to e.g. $\\gamma = 2$, there is a larger probability mass in the tail of the power law distribution (see the plot below). This means that it is more likely to observe hubs. For $\\gamma = 2$, the network will be in the *anamolous regime*, where all nodes are close to each other, because they are all connected to the same hub. Here, the average path length $‹d›$ is constant. Hence, the dependence of $‹d›$ on $\\gamma$ shows that the more pronounced the hubs are in a scale-free network, the more they will decrease the distances between nodes and therefore also the average path length [[Network Science, Chapter 4]](https://networksciencebook.com/chapter/4#ultra-small).\n",
    "\n",
    "In the context of the Friendship Paradox, a flatter power law thus results in a higher prevalence of people with many friends (hubs). Since almost everyone is friends with a hub, the average number of friends for the friends of any given person is therefore increased. Thus, a flatter power law will result in the Friendship Paradox being true for a larger fraction of the people in the network. \n"
   ]
  },
  {
   "cell_type": "code",
   "execution_count": 6,
   "metadata": {},
   "outputs": [
    {
     "data": {
      "image/png": "[encoded data removed]",
      "text/plain": [
       "<Figure size 600x400 with 1 Axes>"
      ]
     },
     "metadata": {},
     "output_type": "display_data"
    }
   ],
   "source": [
    "# Comparing power-law degree distribution with different gamma values\n",
    "k = np.linspace(1, 10) \n",
    "fig, ax = plt.subplots(1, 1, figsize = (6, 4))\n",
    "ax.plot(k**(-2), label = '$\\gamma = 2$', color = 'red')\n",
    "ax.plot(k**(-3), label = '$\\gamma = 3$', color = 'blue')\n",
    "ax.set(xlabel = 'Degree $k$', ylabel = 'Probability $P(k)$')\n",
    "plt.title(\"Power-law degree distribution with different $\\gamma$-values\")\n",
    "plt.legend()\n",
    "plt.show()"
   ]
  },
  {
   "cell_type": "markdown",
   "metadata": {},
   "source": [
    "**Building the power-law network with slope $\\gamma = 2$**"
   ]
  },
  {
   "cell_type": "code",
   "execution_count": 7,
   "metadata": {},
   "outputs": [],
   "source": [
    "def generate_degree_sequence(N, gamma, k_min):\n",
    "    \"\"\" \n",
    "    Generating a degree sequence with a power-law distribution \n",
    "\n",
    "    Args\n",
    "        N: number of nodes\n",
    "        gamma: power-law exponent\n",
    "        k_min: minimum degree\n",
    "\n",
    "    Returns\n",
    "        degree_sequence: degree sequence with power-law distribution\n",
    "    \n",
    "    \"\"\"\n",
    "\n",
    "    # Random real numbers in unit interval [0, 1]\n",
    "    r = np.random.default_rng(seed = 0).uniform(0, 1, N)\n",
    "\n",
    "    # Degree sequence\n",
    "    degree_sequence = k_min * (1 - r) ** (-1 / (gamma - 1))\n",
    "\n",
    "    # Round to integer\n",
    "    degree_sequence = np.round(degree_sequence).astype(int)\n",
    "\n",
    "    # Hotfix if sum is an odd number\n",
    "    if sum(degree_sequence) % 2 != 0:\n",
    "\n",
    "        # Add +1 to degree of first node\n",
    "        degree_sequence[0] += 1\n",
    "\n",
    "    return degree_sequence"
   ]
  },
  {
   "cell_type": "code",
   "execution_count": 8,
   "metadata": {},
   "outputs": [],
   "source": [
    "N = 5000    # Number of nodes\n",
    "gamma = 2   # Degree exponent\n",
    "k_min = 1   # Minimum degree\n",
    "\n",
    "# Generate network with power-law degree distribution\n",
    "deg_sequence = generate_degree_sequence(N, gamma, k_min) \n",
    "PL = nx.configuration_model(deg_sequence)   "
   ]
  },
  {
   "cell_type": "code",
   "execution_count": 9,
   "metadata": {},
   "outputs": [
    {
     "name": "stdout",
     "output_type": "stream",
     "text": [
      "Fraction of nodes for which the Friendship Paradox holds in the power-law network (gamma = 2) network: 0.97\n"
     ]
    }
   ],
   "source": [
    "# Investigating the Friendship Paradox in the power-law network\n",
    "fraction = friendship_paradox(PL, iterations = 1000)\n",
    "print(f'Fraction of nodes for which the Friendship Paradox holds in the power-law network (gamma = 2) network: {fraction:.2f}')"
   ]
  },
  {
   "cell_type": "markdown",
   "metadata": {},
   "source": [
    "From the above computations it is seen that the fraction of how often the Friendship Paradox holds is larger for the power-law network with $\\gamma = 2$ than it is for the BA network. The power-law network has a fraction of $0.98$, whereas the BA network had a fraction of $0.85$. This supports the hypothesis that a flatter power-law results in the Friendship Paradox being true more often, as previously discussed."
   ]
  },
  {
   "cell_type": "markdown",
   "metadata": {},
   "source": [
    "### **Exercise 1.3: The friendship paradox and the configuration model**\n"
   ]
  },
  {
   "cell_type": "markdown",
   "metadata": {},
   "source": [
    "**Building the configuration model with paramerers equivalent to the F-BA network**"
   ]
  },
  {
   "cell_type": "code",
   "execution_count": 10,
   "metadata": {},
   "outputs": [],
   "source": [
    "def Configuration_Model(F_BA):\n",
    "    \"\"\"\n",
    "    Building a configuration model with the same degree distribution as the BA network\n",
    "\n",
    "    Args\n",
    "        F_BA: networkx graph object of the BA network\n",
    "    \n",
    "    Returns\n",
    "        F_CM: networkx graph object of the configuration model\n",
    "\n",
    "    \"\"\"\n",
    "    # Degree distribution from F_BA network\n",
    "    degree_sequence = [degree for node, degree in F_BA.degree()]\n",
    "\n",
    "    if sum(degree_sequence) % 2 != 0:\n",
    "        degree_sequence[0] += 1\n",
    "\n",
    "    # Generate configuration model with same degree distribution as F_BA network\n",
    "    F_CM = nx.configuration_model(degree_sequence)\n",
    "\n",
    "    return F_CM"
   ]
  },
  {
   "cell_type": "code",
   "execution_count": 11,
   "metadata": {},
   "outputs": [
    {
     "name": "stdout",
     "output_type": "stream",
     "text": [
      "Fraction of nodes for which the Friendship Paradox holds in the F-CM network: 0.63\n"
     ]
    }
   ],
   "source": [
    "# Generate F_CM network\n",
    "F_CM = Configuration_Model(F_BA)\n",
    "\n",
    "fraction = friendship_paradox(F_CM, iterations = 1000)\n",
    "print(f'Fraction of nodes for which the Friendship Paradox holds in the F-CM network: {fraction:.2f}')"
   ]
  },
  {
   "cell_type": "markdown",
   "metadata": {},
   "source": [
    "Here it is seen that for a Configuration Model (F-CM) with the same degree distribution as the Barabasi-Network (F-BA) from previously, there is a discrepancy in how often the Friendship Paradox holds. The F-BA network had a fraction of $0.85$, whereas the F-CM has a larger fraction of $0.92$. This difference suggests that there are other properties within the two random network models that impact how frequently the Friendship Paradox is true. \n",
    "\n",
    "*Assortativity* describes the tendency of nodes to form connections with other nodes of similar degree [[Wikipedia, Assortativity]](https://en.wikipedia.org/wiki/Assortativity). Due to the *preferential attachment* property (where high-degree nodes attract connectins from low-degree nodes), the F-BA network will likely have low assortativity. In comparison, the F-CM network asigns edges randomly (while preserving the degree distribution), meaning it will likely have more neutral assortativity. This could explain why the Friendship Paradox is true less often for the F-BA network compared to the F-CM network: in the F-BA network, the high-degree nodes typically \"out-friend\" their neighbors, meaning the Friendship Paradox is less likely to be true; whereas in the F-CM network, the neutral connection of edges could result in it being more likely for a node to randomly have neighbors with a higher degree. \n",
    "\n",
    "Similarly can be argued through the *clustering coefficient*. In the F-BA model, the hubs will centralize the connections in the network, which could create a hierarchical structure with low clustering. [[Wikipedia, Scale-free network]](https://en.wikipedia.org/wiki/Scale-free_network) Conversely, the lack of this structrue in the F-CA model (due to the randomness of edge connections) could create a more even spread of clusters in the network, i.e. higher clustering. Hence, high-degree nodes will be more likely to be part of a cluster of other high-degree nodes in the F-CM than in the F-BA network. Once again, this leads to the Friendship Paradox to be true more often for the F-CM than the F-BA network.\n",
    "\n",
    "In order to properly whether there is an actual difference in how often the Friendship Paradox is true when comparing the F-BA and F-CM network, we would have to test more rigorously by using e.g. statistical tests. To do so, we would have to run many simulations; for each simulation, a new instance of the F-BA and F-CM network should be generated (using different seeds for the randomness across simulations), and the fraction of nodes for which the Friendship Paradox holds should be recorded. After all simulations have been run, the distribution of the Friendship Paradox frequency for the F-BA and F-CM network can then be compared by running a *two-sample t-test* (if we can assume that the fractoins are approximately normally distributed) or a *Wilcoxon rank-sum test* (if we can not assume normality). The p-value of this statistical test could then tell us if the observed difference in the Friendship Paradox between the F-BA and F-CM network is statistically significant ($p < 0.05$) or not ($p > 0.05$). Alternatively (or additionally), *confidence intervals* for the mean could be computed across the many runs for both the F-BA and the F-CM network, which could be added as error bars to a plot of the fraction -- or we could simply check if whether or not the confidence intervals for the F-BA and F-CM network overlap. \n"
   ]
  },
  {
   "cell_type": "markdown",
   "metadata": {},
   "source": [
    "### **Exercise 1.4: Growth without preferential attachment**"
   ]
  },
  {
   "cell_type": "markdown",
   "metadata": {},
   "source": [
    "**Building a Sune network with growth, but without preferential attachment**"
   ]
  },
  {
   "cell_type": "code",
   "execution_count": 12,
   "metadata": {},
   "outputs": [],
   "source": [
    "def choose_node_equal_probability(graph, seed):\n",
    "    \"\"\" \n",
    "    Function for choosing a node in a network using equal probability (i.e. without preferential attachment)\n",
    "\n",
    "    Args \n",
    "        graph: networkx graph object\n",
    "        seed: random seed\n",
    "\n",
    "    Returns\n",
    "        node: node in the network\n",
    "    \n",
    "    \"\"\"\n",
    "\n",
    "    # All nodes in the network\n",
    "    all_nodes = list(graph.nodes()) \n",
    "\n",
    "    # Choose a random node \n",
    "    node = np.random.default_rng(seed).choice(all_nodes)\n",
    "    \n",
    "    return node\n",
    "\n",
    "def Sune_Network(N):\n",
    "    \"\"\"\n",
    "    Building a Sune network without preferential attachment, but with the parameters as the BA network\n",
    "    \n",
    "    Args\n",
    "        N: number of nodes\n",
    "        m: number of existing nodes to connect to\n",
    "\n",
    "    Returns\n",
    "        Sune: networkx graph object of the Sune network\n",
    "    \"\"\"\n",
    "\n",
    "    # Create initial graph of two nodes with an edge between them\n",
    "    Sune = nx.Graph()\n",
    "\n",
    "    Sune.add_nodes_from([0, 1])\n",
    "    Sune.add_edge(0, 1)\n",
    "\n",
    "    # Add new nodes\n",
    "    for i in range(2, N):\n",
    "\n",
    "        # Choose a node to connect to through equal probability\n",
    "        node = choose_node_equal_probability(Sune, seed = i)\n",
    "\n",
    "        # Add node to graph\n",
    "        Sune.add_node(i)\n",
    "        Sune.add_edge(i, node)\n",
    "        \n",
    "    return Sune"
   ]
  },
  {
   "cell_type": "markdown",
   "metadata": {},
   "source": [
    "**Building an Erdos-Renyi (ER) network**"
   ]
  },
  {
   "cell_type": "code",
   "execution_count": 40,
   "metadata": {},
   "outputs": [],
   "source": [
    "def Erdos_Renyi(Sune):\n",
    "    \"\"\" \n",
    "    Building an Erdos-Renyi (ER) network with the same number of nodes and links as the Sune network\n",
    "    \n",
    "    Args \n",
    "        Sune: networkx graph object of the Sune network\n",
    "    \n",
    "    Returns\n",
    "        ER: networkx graph object of the ER network\n",
    "    \n",
    "    \"\"\"\n",
    "\n",
    "    # Number of nodes and links\n",
    "    N = Sune.number_of_nodes()\n",
    "    L = Sune.number_of_edges()\n",
    "\n",
    "    # Link probability\n",
    "    p = (2 * L) / (N * (N - 1))\n",
    "\n",
    "    # Generate ER network \n",
    "    ER = nx.erdos_renyi_graph(N, p)\n",
    "\n",
    "    return ER"
   ]
  },
  {
   "cell_type": "code",
   "execution_count": 41,
   "metadata": {},
   "outputs": [],
   "source": [
    "# Generate Sune network and ER network\n",
    "Sune = Sune_Network(N)\n",
    "ER = Erdos_Renyi(Sune)"
   ]
  },
  {
   "cell_type": "markdown",
   "metadata": {},
   "source": [
    "**Statistics for the Sune network and ER network**"
   ]
  },
  {
   "cell_type": "code",
   "execution_count": 114,
   "metadata": {},
   "outputs": [
    {
     "name": "stdout",
     "output_type": "stream",
     "text": [
      "Sune network\n",
      "\tNumber of nodes: 5000\n",
      "\tNumber of edges: 4999\n",
      "\tNumber of connected components: 1\n",
      "\n",
      "Erdos Renyi network\n",
      "\tNumber of nodes: 5000\n",
      "\tNumber of edges: 5038\n",
      "\tNumber of connected components: 831\n",
      "\n"
     ]
    }
   ],
   "source": [
    "# Statistics for each network\n",
    "for network, name in zip([Sune, ER], [\"Sune network\", \"Erdos Renyi network\"]):\n",
    "\n",
    "    # Number of connected components\n",
    "    cc = nx.number_connected_components(network)\n",
    "\n",
    "    print(f'{name}')\n",
    "    print(f'\\tNumber of nodes: {network.number_of_nodes()}')\n",
    "    print(f'\\tNumber of edges: {network.number_of_edges()}')\n",
    "    print(f'\\tNumber of connected components: {cc}\\n')\n"
   ]
  },
  {
   "cell_type": "markdown",
   "metadata": {},
   "source": [
    "**Plotting the degree distribution of the Sune network and ER network**"
   ]
  },
  {
   "cell_type": "code",
   "execution_count": 116,
   "metadata": {},
   "outputs": [
    {
     "data": {
      "image/png": "[encoded data removed]",
      "text/plain": [
       "<Figure size 1200x400 with 2 Axes>"
      ]
     },
     "metadata": {},
     "output_type": "display_data"
    }
   ],
   "source": [
    "# Degrees in each network\n",
    "Sune_degrees = [Sune.degree(n) for n in Sune.nodes()]\n",
    "ER_degrees = [ER.degree(n) for n in ER.nodes()]\n",
    "\n",
    "fig, ax = plt.subplots(1, 2, figsize = (12, 4))\n",
    "\n",
    "ax[0].hist(Sune_degrees, bins=range(max(Sune_degrees)+1), density = True, label = 'Sune network', color = 'blue')\n",
    "ax[0].set(xlabel = 'Degree $k$', ylabel = 'Probability $P(k)$', title = 'Degree distribution of Sune network')\n",
    "ax[0].set_xlim(0, 10)\n",
    "ax[0].legend()\n",
    "\n",
    "ax[1].hist(ER_degrees, bins=range(max(ER_degrees)+1), density = True, label = 'ER network', color = 'red')\n",
    "ax[1].set(xlabel = 'Degree $k$', ylabel = 'Probability $P(k)$', title = 'Degree distribution of ER network')\n",
    "ax[1].set_xlim(0, 10)\n",
    "ax[1].legend()\n",
    "\n",
    "plt.tight_layout()\n",
    "plt.show()"
   ]
  },
  {
   "cell_type": "markdown",
   "metadata": {},
   "source": [
    "Comparing the Sune network and the Erdos Renyi (ER) network, it is seen that they differ in the number of connected components. The Sune network has only a single connected component -- this is because each new node always connects to an existing node, meaning the graph will remain connected as it grows. The ER network has many ($831$) connected components, suggesting that the network is quite fragmented, which happens due to a low link probability $p$.\n",
    "\n",
    "Looking at the degree distributions in the above plots, it can be seen clearly that the ER network has a Poisson degree distribution, which is in correspondance to the theory [[Network Science, Chapter 3]](https://networksciencebook.com/chapter/3). For the Sune network, the degree distributions seems to resemble a power-law. This is what we would expect for a scale-free network [[Network Science, Chapter 4]](https://networksciencebook.com/chapter/4#introduction4). However, the Sune network does not have the preferential attachment property (unlike the Barabasi-Albert model), which means that the Sune network degree distribution does not exhibit the same level of extremeness in comparison to the BA network degree distribution."
   ]
  },
  {
   "cell_type": "markdown",
   "metadata": {},
   "source": [
    "# **Part 2: Stats of the Country Music Network**"
   ]
  },
  {
   "cell_type": "code",
   "execution_count": 19,
   "metadata": {},
   "outputs": [
    {
     "name": "stdout",
     "output_type": "stream",
     "text": [
      "First 5 bands: ['3 of Hearts (band)', '4 Runner', '8 Ball Aitken', 'The Abrams Brothers', 'Ace in the Hole Band']\n",
      "Toal number of bands: 2100\n"
     ]
    }
   ],
   "source": [
    "# Load the list of country music performees from file (datasource: Wikipedia)\n",
    "data_paths = os.listdir(\"data\")\n",
    "Wiki_exctracted_list = open('list_of_country_music_performers.txt', 'r')\n",
    "raw_data = Wiki_exctracted_list.read()\n",
    "performers_list = []\n",
    "\n",
    "# Extract the performers from the wiki article\n",
    "regEx = r\"\\[\\[(.*?)\\]\\]\"\n",
    "matches = re.findall(regEx, raw_data)\n",
    "\n",
    "for match in matches:\n",
    "    match = match.split(\"|\")[0]\n",
    "    performers_list.append(match)\n",
    "\n",
    "print(f\"Toal number of country music performers: {len(performers_list)}\")"
   ]
  },
  {
   "cell_type": "markdown",
   "metadata": {},
   "source": [
    "### **Exercise 2.1: Simple network statistics and analysis**"
   ]
  },
  {
   "cell_type": "markdown",
   "metadata": {},
   "source": [
    "Before making the statistics and a general analysis, the network needs to be created."
   ]
  },
  {
   "cell_type": "code",
   "execution_count": 24,
   "metadata": {},
   "outputs": [
    {
     "name": "stdout",
     "output_type": "stream",
     "text": [
      "Number of nodes: 2104\n",
      "Number of edges: 17508\n",
      "Number of isolated nodes: 149\n",
      "Number of nodes in the largest component: 1946\n",
      "Number of edges in the largest component: 17500\n"
     ]
    }
   ],
   "source": [
    "def get_links(regEx, raw_content, return_unique=True, filter_category=False):\n",
    "    '''\n",
    "    Function that extracts links/references from a text string\n",
    "\n",
    "    Args:\n",
    "    regEx: string, regular expression for the links\n",
    "    raw_content: string, text to extract links from\n",
    "    return_unique: boolean, whether to return unique links\n",
    "    filter_category: boolean, whether to filter out links that contain \"Category:\"\n",
    "\n",
    "    Returns:    \n",
    "    links: list, list of links \n",
    "    '''\n",
    "\n",
    "    # Extract the links from the article\n",
    "    matches = re.findall(regEx, raw_content)\n",
    "    links = []\n",
    "    \n",
    "    # Extract the correct link from the matches\n",
    "    for match in matches:\n",
    "        link = match.split(\"|\")[0]\n",
    "        links.append(link)\n",
    "    \n",
    "    if return_unique:\n",
    "        links = list(set(links))\n",
    "\n",
    "    if filter_category:\n",
    "        links = [link for link in links if \"Category:\" not in link]\n",
    "\n",
    "    return links\n",
    "\n",
    "def in_list_of_performers(list_of_performers, links):\n",
    "    '''\n",
    "    Function that checks if a link is in a list of performers\n",
    "\n",
    "    Args:\n",
    "    list_of_performers: list, list of performers\n",
    "    links: list, list of links\n",
    "\n",
    "    Returns:\n",
    "    performers: list, list of found performers that are in the list of performers\n",
    "    '''\n",
    "\n",
    "    performers = []\n",
    "\n",
    "    for link in links:\n",
    "        if link in list_of_performers:\n",
    "            performers.append(link)\n",
    "\n",
    "    return performers\n",
    "\n",
    "# Create the graph\n",
    "country_performer_graph = nx.DiGraph()\n",
    "\n",
    "# Regular expression for extracting links with the format [[link]] or [[link|text]]\n",
    "regEx = r\"\\[\\[(.*?)\\]\\]\"\n",
    "\n",
    "# Loop over all performers from the list\n",
    "for path in data_paths:\n",
    "\n",
    "    # Extract the title of the article\n",
    "    article_title = path.replace(\".txt\", \"\")\n",
    "\n",
    "    # Read the content of the article\n",
    "    with open(f\"data/{path}\", \"r\", encoding=\"utf-8\") as f:\n",
    "        raw_content = f.read()\n",
    "\n",
    "    # Number of words in the article\n",
    "    words = re.findall(r\"\\b\\w+\\b\", raw_content)\n",
    "    len_article = len(words)\n",
    "\n",
    "    # Extract the links from the article\n",
    "    links = get_links(regEx, raw_content, True, True)\n",
    "\n",
    "    # Performers referenced in the article\n",
    "    performers_present = in_list_of_performers(performers_list, links)\n",
    "\n",
    "    # Create node for article and add article length as an attribute\n",
    "    country_performer_graph.add_node(article_title)\n",
    "    country_performer_graph.nodes[article_title][\"article_length\"] = len_article\n",
    "\n",
    "    # Add edges between article and referenced performers\n",
    "    for performer in performers_present:\n",
    "        performer = performer.replace(\" \", \"_\")\n",
    "        country_performer_graph.add_node(performer)\n",
    "        country_performer_graph.add_edge(article_title, performer)\n",
    "\n",
    "print(\"Number of nodes:\", len(country_performer_graph.nodes))\n",
    "print(\"Number of edges:\", len(country_performer_graph.edges))\n",
    "\n",
    "# Find nodes with no incoming or outgoing edges\n",
    "isolated_nodes = [node for node in country_performer_graph.nodes if \n",
    "                  country_performer_graph.in_degree(node) == 0 and \n",
    "                  country_performer_graph.out_degree(node) == 0]\n",
    "\n",
    "print(f\"Number of isolated nodes: {len(isolated_nodes)} \\n\")\n",
    "\n",
    "# Get the largest sub-network\n",
    "largest_component = max(nx.weakly_connected_components(country_performer_graph), key=len)\n",
    "subgraph = country_performer_graph.subgraph(largest_component).copy()\n",
    "\n",
    "print(\"Number of nodes in the largest component:\", len(subgraph.nodes))\n",
    "print(\"Number of edges in the largest component:\", len(subgraph.edges))"
   ]
  },
  {
   "cell_type": "markdown",
   "metadata": {},
   "source": [
    "**Plotting the degree distribution**:"
   ]
  },
  {
   "cell_type": "code",
   "execution_count": 75,
   "metadata": {},
   "outputs": [
    {
     "name": "stdout",
     "output_type": "stream",
     "text": [
      "Mean in-degree: 8.992805755395683\n",
      "Mean out-degree: 8.992805755395683\n"
     ]
    },
    {
     "data": {
      "image/png": "[encoded data removed]",
      "text/plain": [
       "<Figure size 1200x1200 with 2 Axes>"
      ]
     },
     "metadata": {},
     "output_type": "display_data"
    }
   ],
   "source": [
    "def plot_degree_distribution_seq(degree_sequence, title, color):\n",
    "    plt.hist(degree_sequence, bins=range(max(degree_sequence)+1), density=True, color=color)\n",
    "    plt.xlabel('Degree $k$')\n",
    "    plt.ylabel('Probability $P(k)$')\n",
    "    plt.title(title)\n",
    "\n",
    "# Degree distribution for the largest component\n",
    "in_degrees = dict(subgraph.in_degree())\n",
    "out_degrees = dict(subgraph.out_degree())\n",
    "\n",
    "plt.figure(figsize=(12, 12))\n",
    "plt.subplot(3, 2, 1)\n",
    "plot_degree_distribution_seq(list(in_degrees.values()), \"In-degree distribution\", color='blue')\n",
    "plt.xlim(0, 60)\n",
    "plt.ylim(0, 0.2)\n",
    "\n",
    "plt.subplot(3, 2, 2)\n",
    "plot_degree_distribution_seq(list(out_degrees.values()), \"Out-degree distribution\", color='red')\n",
    "plt.xlim(0, 60)\n",
    "plt.ylim(0, 0.2)\n",
    "\n",
    "plt.tight_layout()\n",
    "plt.show()"
   ]
  },
  {
   "cell_type": "markdown",
   "metadata": {},
   "source": [
    "From the degree distribution plot of the largest component, it is seen that the in-degree and out-degree distributions are different. The in-degree distribution is  ....\n",
    "\n",
    "The reason that the  ....\n",
    "\n",
    "The reason the in-degree is generally smaller is that an article is not linked to as often as it links to other articles. "
   ]
  },
  {
   "cell_type": "code",
   "execution_count": null,
   "metadata": {},
   "outputs": [],
   "source": [
    "# Distribution for random network with same number of nodes and edges\n",
    "random_graph = nx.gnm_random_graph(n=len(subgraph.nodes), m=len(subgraph.edges), directed=True)\n",
    "in_degrees_random = dict(random_graph.in_degree())\n",
    "out_degrees_random = dict(random_graph.out_degree())\n",
    "\n",
    "plt.subplot(3, 2, 3)\n",
    "plot_degree_distribution_seq(list(in_degrees_random.values()), \"In-degree distribution of random network\")\n",
    "plt.subplot(3, 2, 4)\n",
    "plot_degree_distribution_seq(list(out_degrees_random.values()), \"Out-degree distribution of random network\")\n",
    "plt.tight_layout()\n",
    "\n",
    "# Distribution for a scale-free network with same number of nodes and edges\n",
    "scale_free_graph = nx.scale_free_graph(n=len(subgraph.nodes))\n",
    "\n",
    "# Ensure that the graph is directed\n",
    "scale_free_graph = nx.DiGraph(scale_free_graph)\n",
    "\n",
    "# Calculate in-degrees and out-degrees for the scale-free graph\n",
    "in_degrees_scale_free = dict(scale_free_graph.in_degree())\n",
    "out_degrees_scale_free = dict(scale_free_graph.out_degree())\n",
    "\n",
    "plt.subplot(3, 2, 5)\n",
    "plot_degree_distribution_seq(list(in_degrees_scale_free.values()), \"In-degree distribution of scale-free network\")\n",
    "plt.subplot(3, 2, 6)\n",
    "plot_degree_distribution_seq(list(out_degrees_scale_free.values()), \"Out-degree Distribution of scale-free network\")\n",
    "plt.tight_layout()\n",
    "plt.show()\n"
   ]
  },
  {
   "cell_type": "markdown",
   "metadata": {},
   "source": [
    "### **Exercise 2.2: Building a simple network model visualization**"
   ]
  },
  {
   "cell_type": "code",
   "execution_count": null,
   "metadata": {},
   "outputs": [],
   "source": []
  }
 ],
 "metadata": {
  "kernelspec": {
   "display_name": "Cuda",
   "language": "python",
   "name": "python3"
  },
  "language_info": {
   "codemirror_mode": {
    "name": "ipython",
    "version": 3
   },
   "file_extension": ".py",
   "mimetype": "text/x-python",
   "name": "python",
   "nbconvert_exporter": "python",
   "pygments_lexer": "ipython3",
   "version": "3.9.18"
  }
 },
 "nbformat": 4,
 "nbformat_minor": 2
}
