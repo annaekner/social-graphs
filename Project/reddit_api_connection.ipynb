{
 "cells": [
  {
   "cell_type": "code",
   "execution_count": 1,
   "metadata": {},
   "outputs": [],
   "source": [
    "import praw\n",
    "from dotenv import load_dotenv\n",
    "import networkx as nx\n",
    "import os"
   ]
  },
  {
   "cell_type": "markdown",
   "metadata": {},
   "source": [
    "# Initializing calling the reddit API "
   ]
  },
  {
   "cell_type": "code",
   "execution_count": 3,
   "metadata": {},
   "outputs": [],
   "source": [
    "# Load environment variables from the .env file\n",
    "load_dotenv()\n",
    "\n",
    "# Retrieve tokens from environment variables\n",
    "client_id = os.getenv('CLIENT_ID')\n",
    "client_secret = os.getenv('CLIENT_SECRET')\n",
    "user_agent = os.getenv('USER_AGENT')\n",
    "# Initialize Reddit instance with credentials from the .env file\n",
    "reddit = praw.Reddit(\n",
    "    client_id=client_id,\n",
    "    client_secret=client_secret,\n",
    "    user_agent=user_agent\n",
    ")\n"
   ]
  },
  {
   "cell_type": "markdown",
   "metadata": {},
   "source": [
    "Making a test call to the reddit API"
   ]
  },
  {
   "cell_type": "code",
   "execution_count": 4,
   "metadata": {},
   "outputs": [
    {
     "name": "stdout",
     "output_type": "stream",
     "text": [
      "Subreddit title: Python\n",
      "Subreddit description: The official Python community for Reddit! Stay up to date with the latest news, packages, and meta information relating to the Python programming language. \n",
      "---\n",
      "\n",
      "If you have questions or are new to Python use r/LearnPython\n"
     ]
    }
   ],
   "source": [
    "# Test to see if connection and authentication are successful\n",
    "try:\n",
    "    subreddit = reddit.subreddit('python')\n",
    "    print(\"Subreddit title:\", subreddit.title)\n",
    "    print(\"Subreddit description:\", subreddit.public_description)\n",
    "except Exception as e:\n",
    "    print(\"An error occurred when accessing subreddit:\", e)\n"
   ]
  },
  {
   "cell_type": "markdown",
   "metadata": {},
   "source": [
    "# Top subreddits"
   ]
  },
  {
   "cell_type": "code",
   "execution_count": 9,
   "metadata": {},
   "outputs": [
    {
     "name": "stdout",
     "output_type": "stream",
     "text": [
      "funny 64817697\n",
      "AskReddit 49026513\n",
      "gaming 44144797\n",
      "worldnews 42229077\n",
      "todayilearned 38465785\n",
      "memes 34721183\n",
      "movies 33874936\n",
      "pics 31191605\n",
      "news 28892315\n",
      "videos 26824982\n",
      "DIY 25569800\n",
      "nottheonion 24986586\n",
      "mildlyinteresting 24075813\n",
      "explainlikeimfive 22950565\n",
      "AmItheAsshole 21785825\n",
      "personalfinance 19987347\n",
      "OldSchoolCool 18603591\n",
      "Damnthatsinteresting 17990315\n",
      "technology 17366167\n",
      "wallstreetbets 16989040\n",
      "relationship_advice 14396826\n",
      "nba 13583174\n",
      "pcmasterrace 13533188\n",
      "interestingasfuck 12858189\n",
      "anime 11593883\n",
      "Unexpected 11112404\n",
      "nfl 10861398\n",
      "MadeMeSmile 10515063\n",
      "politics 8684475\n",
      "mildlyinfuriating 8583019\n",
      "BeAmazed 8369159\n",
      "facepalm 8236975\n",
      "Minecraft 7852045\n",
      "ChatGPT 7822074\n",
      "soccer 7767252\n",
      "leagueoflegends 7731095\n",
      "buildapc 7431023\n",
      "WTF 7058967\n",
      "AskMen 6378462\n",
      "dankmemes 5927898\n",
      "BlackPeopleTwitter 5922289\n",
      "Overwatch 5899019\n",
      "coolguides 5584095\n",
      "NoStupidQuestions 5076113\n",
      "MapPorn 4889070\n",
      "OnePiece 4739005\n",
      "PublicFreakout 4697953\n",
      "formula1 4484715\n",
      "TikTokCringe 4445908\n",
      "unpopularopinion 4392539\n",
      "Steam 4265434\n",
      "popculturechat 4253944\n",
      "manga 4162296\n",
      "DnD 3906815\n",
      "Eldenring 3772323\n",
      "Wellthatsucks 3710258\n",
      "pcgaming 3683341\n",
      "LivestreamFail 3498750\n",
      "OutOfTheLoop 3406438\n",
      "Games 3333821\n",
      "Genshin_Impact 3243103\n",
      "WhitePeopleTwitter 3129514\n",
      "wow 2868492\n",
      "antiwork 2847715\n",
      "rareinsults 2802330\n",
      "legaladvice 2762189\n",
      "techsupport 2760288\n",
      "shitposting 2633759\n",
      "GlobalOffensive 2601217\n",
      "college 2596957\n",
      "BaldursGate3 2564237\n",
      "youtube 2540883\n",
      "AITAH 2515502\n",
      "malelivingspace 2185574\n",
      "CrazyFuckingVideos 2173917\n",
      "BestofRedditorUpdates 2110314\n",
      "Piracy 1899838\n",
      "cyberpunkgame 1855685\n",
      "CombatFootage 1748663\n",
      "theydidthemath 1589200\n",
      "Helldivers 1516738\n",
      "SipsTea 1312618\n",
      "discordapp 1177215\n",
      "ffxiv 1172737\n",
      "2007scape 1077306\n",
      "EscapefromTarkov 1018832\n",
      "sysadmin 949657\n",
      "HonkaiStarRail 902812\n",
      "UkraineWarVideoReport 826162\n",
      "PeterExplainsTheJoke 802656\n",
      "SteamDeck 761112\n",
      "Warframe 760351\n",
      "PiratedGames 751646\n",
      "Gamingcirclejerk 707126\n",
      "Palworld 621896\n",
      "classicwow 610242\n",
      "feedthebeast 453123\n",
      "badroommates 412498\n",
      "CuratedTumblr 392781\n",
      "Home 254183\n"
     ]
    }
   ],
   "source": [
    "# Fetch the top 20 subreddits\n",
    "top_subreddits = reddit.subreddits.popular(limit=100)\n",
    "\n",
    "sorted_top = sorted(top_subreddits, key=lambda x: x.subscribers, reverse=True)\n",
    "\n",
    "for sub in sorted_top:\n",
    "    print(sub.display_name, sub.subscribers)"
   ]
  },
  {
   "cell_type": "markdown",
   "metadata": {},
   "source": [
    "# Get random subreddit"
   ]
  },
  {
   "cell_type": "code",
   "execution_count": 19,
   "metadata": {},
   "outputs": [
    {
     "name": "stdout",
     "output_type": "stream",
     "text": [
      "assholedesign 3032327\n",
      "limbuscompany 53557\n",
      "malefashionadvice 5965361\n",
      "im14andthisisdeep 1085447\n",
      "UFObelievers 102026\n",
      "projecteternity 68345\n",
      "ExperiencedDevs 231651\n",
      "AeroPress 55031\n",
      "unpopularopinion 4392554\n",
      "Seattle 604919\n"
     ]
    }
   ],
   "source": [
    "n_random_subreddits = 50\n",
    "number_artices = 20\n",
    "\n",
    "for _ in range(n_random_subreddits):\n",
    "    random_subreddit = reddit.subreddit(\"random\")\n",
    "    print(random_subreddit.display_name, random_subreddit.subscribers)"
   ]
  },
  {
   "cell_type": "code",
   "execution_count": 22,
   "metadata": {},
   "outputs": [
    {
     "name": "stdout",
     "output_type": "stream",
     "text": [
      "Selected Subreddit: NYGiants\n"
     ]
    },
    {
     "name": "stderr",
     "output_type": "stream",
     "text": [
      "C:\\Users\\morte\\AppData\\Local\\Temp\\ipykernel_40732\\987843380.py:7: DeprecationWarning: Positional arguments for 'BaseListingMixin.top' will no longer be supported in PRAW 8.\n",
      "Call this function with 'time_filter' as a keyword argument.\n",
      "  top_posts = random_subreddit.top(\"month\", limit=10)\n"
     ]
    },
    {
     "name": "stdout",
     "output_type": "stream",
     "text": [
      "Data saved to random_subreddit_top_posts.json\n"
     ]
    }
   ],
   "source": [
    "import json\n",
    "# Get a random subreddit\n",
    "random_subreddit = reddit.subreddit(\"random\")\n",
    "print(f\"Selected Subreddit: {random_subreddit.display_name}\")\n",
    "\n",
    "# Get the top 10 posts of the month\n",
    "top_posts = random_subreddit.top(\"month\", limit=10)\n",
    "\n",
    "# Prepare data structure to save posts and comments\n",
    "subreddit_data = {\n",
    "    \"subreddit\": random_subreddit.display_name,\n",
    "    \"posts\": []\n",
    "}\n",
    "\n",
    "for post in top_posts:\n",
    "    post_data = {\n",
    "        \"title\": post.title,\n",
    "        \"score\": post.score,\n",
    "        \"text\": post.selftext,\n",
    "        \"url\": post.url,\n",
    "        \"id\": post.id,\n",
    "        \"comments\": []\n",
    "    }\n",
    "\n",
    "    # Fetch the top-level comments for each post\n",
    "    post.comments.replace_more(limit=0)  # Avoid fetching \"MoreComments\" objects\n",
    "    for comment in post.comments.list()[:10]:  # Limit to 10 comments per post\n",
    "        post_data[\"comments\"].append({\n",
    "            \"comment_id\": comment.id,\n",
    "            \"author\": comment.author.name if comment.author else \"deleted\",\n",
    "            \"body\": comment.body,\n",
    "            \"score\": comment.score\n",
    "        })\n",
    "    \n",
    "    # Add the post data to subreddit_data\n",
    "    subreddit_data[\"posts\"].append(post_data)\n",
    "\n",
    "# Save the data to a JSON file\n",
    "with open(\"random_subreddit_top_posts.json\", \"w\", encoding=\"utf-8\") as f:\n",
    "    json.dump(subreddit_data, f, indent=4)\n",
    "\n",
    "print(\"Data saved to random_subreddit_top_posts.json\")\n"
   ]
  }
 ],
 "metadata": {
  "kernelspec": {
   "display_name": "Cuda",
   "language": "python",
   "name": "python3"
  },
  "language_info": {
   "codemirror_mode": {
    "name": "ipython",
    "version": 3
   },
   "file_extension": ".py",
   "mimetype": "text/x-python",
   "name": "python",
   "nbconvert_exporter": "python",
   "pygments_lexer": "ipython3",
   "version": "3.9.16"
  }
 },
 "nbformat": 4,
 "nbformat_minor": 2
}
