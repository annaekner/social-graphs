{
 "cells": [
  {
   "cell_type": "code",
   "execution_count": 1,
   "metadata": {},
   "outputs": [],
   "source": [
    "import praw\n",
    "from dotenv import load_dotenv\n",
    "import networkx as nx\n",
    "import os"
   ]
  },
  {
   "cell_type": "code",
   "execution_count": 2,
   "metadata": {},
   "outputs": [
    {
     "name": "stdout",
     "output_type": "stream",
     "text": [
      "Subreddit title: Python\n",
      "Subreddit description: The official Python community for Reddit! Stay up to date with the latest news, packages, and meta information relating to the Python programming language. \n",
      "---\n",
      "\n",
      "If you have questions or are new to Python use r/LearnPython\n"
     ]
    }
   ],
   "source": [
    "# Load environment variables from the .env file\n",
    "load_dotenv()\n",
    "\n",
    "# Retrieve tokens from environment variables\n",
    "client_id = os.getenv('CLIENT_ID')\n",
    "client_secret = os.getenv('CLIENT_SECRET')\n",
    "user_agent = os.getenv('USER_AGENT')\n",
    "\n",
    "\n",
    "\n",
    "# Initialize Reddit instance with credentials from the .env file\n",
    "reddit = praw.Reddit(\n",
    "    client_id=client_id,\n",
    "    client_secret=client_secret,\n",
    "    user_agent=user_agent\n",
    ")\n",
    "\n",
    "# Test to see if connection and authentication are successful\n",
    "try:\n",
    "    subreddit = reddit.subreddit('python')\n",
    "    print(\"Subreddit title:\", subreddit.title)\n",
    "    print(\"Subreddit description:\", subreddit.public_description)\n",
    "except Exception as e:\n",
    "    print(\"An error occurred when accessing subreddit:\", e)\n"
   ]
  }
 ],
 "metadata": {
  "kernelspec": {
   "display_name": "Cuda",
   "language": "python",
   "name": "python3"
  },
  "language_info": {
   "codemirror_mode": {
    "name": "ipython",
    "version": 3
   },
   "file_extension": ".py",
   "mimetype": "text/x-python",
   "name": "python",
   "nbconvert_exporter": "python",
   "pygments_lexer": "ipython3",
   "version": "3.9.16"
  }
 },
 "nbformat": 4,
 "nbformat_minor": 2
}
